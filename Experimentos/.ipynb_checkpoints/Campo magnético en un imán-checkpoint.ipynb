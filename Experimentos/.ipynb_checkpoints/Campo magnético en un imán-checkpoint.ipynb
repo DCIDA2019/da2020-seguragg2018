{
 "cells": [
  {
   "cell_type": "markdown",
   "metadata": {},
   "source": [
    "# Campo magnético en un imán"
   ]
  },
  {
   "cell_type": "markdown",
   "metadata": {},
   "source": [
    "### 11 de mayo de 2020"
   ]
  },
  {
   "cell_type": "code",
   "execution_count": 1,
   "metadata": {},
   "outputs": [],
   "source": [
    "import numpy as np\n",
    "import pandas as pd\n",
    "import matplotlib.pyplot as plt\n",
    "import statistics as stats"
   ]
  },
  {
   "cell_type": "code",
   "execution_count": 2,
   "metadata": {},
   "outputs": [],
   "source": [
    "h = pd.read_csv('/Users/guill/Desktop/Practicaeym/20.csv')"
   ]
  },
  {
   "cell_type": "code",
   "execution_count": 3,
   "metadata": {},
   "outputs": [],
   "source": [
    "d = []\n",
    "for i in range(2,21,2):\n",
    "    d.append(pd.read_csv('/Users/guill/Desktop/Practicaeym/'+str(i)+'.csv'))"
   ]
  },
  {
   "cell_type": "code",
   "execution_count": 4,
   "metadata": {},
   "outputs": [],
   "source": [
    "d2 = d[0]\n",
    "d4 = d[1]\n",
    "d6 = d[2]\n",
    "d8 = d[3]\n",
    "d10 = d[4]\n",
    "d12 = d[5]\n",
    "d14 = d[6]\n",
    "d16 = d[7]\n",
    "d18 = d[8]\n",
    "d20 = d[9]"
   ]
  },
  {
   "cell_type": "code",
   "execution_count": 5,
   "metadata": {},
   "outputs": [
    {
     "data": {
      "text/html": [
       "<div>\n",
       "<style scoped>\n",
       "    .dataframe tbody tr th:only-of-type {\n",
       "        vertical-align: middle;\n",
       "    }\n",
       "\n",
       "    .dataframe tbody tr th {\n",
       "        vertical-align: top;\n",
       "    }\n",
       "\n",
       "    .dataframe thead th {\n",
       "        text-align: right;\n",
       "    }\n",
       "</style>\n",
       "<table border=\"1\" class=\"dataframe\">\n",
       "  <thead>\n",
       "    <tr style=\"text-align: right;\">\n",
       "      <th></th>\n",
       "      <th>Time (s)</th>\n",
       "      <th>Magnetic Field x (µT)</th>\n",
       "      <th>Magnetic Field y (µT)</th>\n",
       "      <th>Magnetic Field z (µT)</th>\n",
       "      <th>Absolute field (µT)</th>\n",
       "    </tr>\n",
       "  </thead>\n",
       "  <tbody>\n",
       "    <tr>\n",
       "      <td>0</td>\n",
       "      <td>0.000000</td>\n",
       "      <td>-595.634460</td>\n",
       "      <td>-123.641968</td>\n",
       "      <td>-199.945068</td>\n",
       "      <td>640.348169</td>\n",
       "    </tr>\n",
       "    <tr>\n",
       "      <td>1</td>\n",
       "      <td>0.010071</td>\n",
       "      <td>-595.341492</td>\n",
       "      <td>-124.227905</td>\n",
       "      <td>-199.749756</td>\n",
       "      <td>640.128135</td>\n",
       "    </tr>\n",
       "    <tr>\n",
       "      <td>2</td>\n",
       "      <td>0.020050</td>\n",
       "      <td>-595.146179</td>\n",
       "      <td>-123.739624</td>\n",
       "      <td>-199.749756</td>\n",
       "      <td>639.851884</td>\n",
       "    </tr>\n",
       "    <tr>\n",
       "      <td>3</td>\n",
       "      <td>0.030060</td>\n",
       "      <td>-595.536804</td>\n",
       "      <td>-124.325561</td>\n",
       "      <td>-198.870850</td>\n",
       "      <td>640.055111</td>\n",
       "    </tr>\n",
       "    <tr>\n",
       "      <td>4</td>\n",
       "      <td>0.040070</td>\n",
       "      <td>-595.829773</td>\n",
       "      <td>-123.348999</td>\n",
       "      <td>-199.847412</td>\n",
       "      <td>640.442880</td>\n",
       "    </tr>\n",
       "    <tr>\n",
       "      <td>...</td>\n",
       "      <td>...</td>\n",
       "      <td>...</td>\n",
       "      <td>...</td>\n",
       "      <td>...</td>\n",
       "      <td>...</td>\n",
       "    </tr>\n",
       "    <tr>\n",
       "      <td>1074</td>\n",
       "      <td>10.750456</td>\n",
       "      <td>-599.345398</td>\n",
       "      <td>-124.520874</td>\n",
       "      <td>-199.847412</td>\n",
       "      <td>643.940480</td>\n",
       "    </tr>\n",
       "    <tr>\n",
       "      <td>1075</td>\n",
       "      <td>10.760466</td>\n",
       "      <td>-599.931335</td>\n",
       "      <td>-124.032593</td>\n",
       "      <td>-199.749756</td>\n",
       "      <td>644.361433</td>\n",
       "    </tr>\n",
       "    <tr>\n",
       "      <td>1076</td>\n",
       "      <td>10.770476</td>\n",
       "      <td>-600.126648</td>\n",
       "      <td>-124.618530</td>\n",
       "      <td>-199.749756</td>\n",
       "      <td>644.656293</td>\n",
       "    </tr>\n",
       "    <tr>\n",
       "      <td>1077</td>\n",
       "      <td>10.780486</td>\n",
       "      <td>-600.028992</td>\n",
       "      <td>-124.325561</td>\n",
       "      <td>-199.456787</td>\n",
       "      <td>644.418068</td>\n",
       "    </tr>\n",
       "    <tr>\n",
       "      <td>1078</td>\n",
       "      <td>10.790556</td>\n",
       "      <td>-600.419617</td>\n",
       "      <td>-124.130249</td>\n",
       "      <td>-199.456787</td>\n",
       "      <td>644.744170</td>\n",
       "    </tr>\n",
       "  </tbody>\n",
       "</table>\n",
       "<p>1079 rows × 5 columns</p>\n",
       "</div>"
      ],
      "text/plain": [
       "       Time (s)  Magnetic Field x (µT)  Magnetic Field y (µT)  \\\n",
       "0      0.000000            -595.634460            -123.641968   \n",
       "1      0.010071            -595.341492            -124.227905   \n",
       "2      0.020050            -595.146179            -123.739624   \n",
       "3      0.030060            -595.536804            -124.325561   \n",
       "4      0.040070            -595.829773            -123.348999   \n",
       "...         ...                    ...                    ...   \n",
       "1074  10.750456            -599.345398            -124.520874   \n",
       "1075  10.760466            -599.931335            -124.032593   \n",
       "1076  10.770476            -600.126648            -124.618530   \n",
       "1077  10.780486            -600.028992            -124.325561   \n",
       "1078  10.790556            -600.419617            -124.130249   \n",
       "\n",
       "      Magnetic Field z (µT)  Absolute field (µT)  \n",
       "0               -199.945068           640.348169  \n",
       "1               -199.749756           640.128135  \n",
       "2               -199.749756           639.851884  \n",
       "3               -198.870850           640.055111  \n",
       "4               -199.847412           640.442880  \n",
       "...                     ...                  ...  \n",
       "1074            -199.847412           643.940480  \n",
       "1075            -199.749756           644.361433  \n",
       "1076            -199.749756           644.656293  \n",
       "1077            -199.456787           644.418068  \n",
       "1078            -199.456787           644.744170  \n",
       "\n",
       "[1079 rows x 5 columns]"
      ]
     },
     "execution_count": 5,
     "metadata": {},
     "output_type": "execute_result"
    }
   ],
   "source": [
    "d2"
   ]
  },
  {
   "cell_type": "code",
   "execution_count": 6,
   "metadata": {},
   "outputs": [],
   "source": [
    "x2 = d2.iloc[:,1]\n",
    "x4 = d4.iloc[:,1]\n",
    "x6 = d6.iloc[:,1]\n",
    "x8 = d8.iloc[:,1]\n",
    "x10 = d10.iloc[:,1]\n",
    "x12 = d12.iloc[:,1]\n",
    "x14 = d14.iloc[:,1]\n",
    "x16 = d16.iloc[:,1]\n",
    "x18 = d18.iloc[:,1]\n",
    "x20 = d20.iloc[:,1]"
   ]
  },
  {
   "cell_type": "code",
   "execution_count": 7,
   "metadata": {},
   "outputs": [],
   "source": [
    "B = np.zeros(10)\n",
    "B[0] = stats.mean(x2)\n",
    "B[1] = stats.mean(x4)\n",
    "B[2] = stats.mean(x6)\n",
    "B[3] = stats.mean(x8)\n",
    "B[4] = stats.mean(x10)\n",
    "B[5] = stats.mean(x12)\n",
    "B[6] = stats.mean(x14)\n",
    "B[7] = stats.mean(x16)\n",
    "B[8] = stats.mean(x18)\n",
    "B[9] = stats.mean(x20)\n",
    "B = np.abs(B)\n",
    "\n",
    "dis = []\n",
    "for i in range(2,21,2):\n",
    "    dis.append(i)\n",
    "dis = np.array(dis)\n",
    "dis = dis/100"
   ]
  },
  {
   "cell_type": "code",
   "execution_count": 8,
   "metadata": {},
   "outputs": [
    {
     "data": {
      "text/plain": [
       "array([5.99687512e+02, 4.91973185e+01, 1.49843998e+01, 5.70516035e+00,\n",
       "       2.94462794e+00, 1.53622954e+00, 7.56938082e-01, 6.13513891e-01,\n",
       "       3.45548472e-01, 1.47645401e-01])"
      ]
     },
     "execution_count": 8,
     "metadata": {},
     "output_type": "execute_result"
    }
   ],
   "source": [
    "B"
   ]
  },
  {
   "cell_type": "code",
   "execution_count": 9,
   "metadata": {},
   "outputs": [],
   "source": [
    "yer = np.zeros(10)\n",
    "yer[0] = stats.pstdev(x2)\n",
    "yer[1] = stats.pstdev(x4)\n",
    "yer[2] = stats.pstdev(x6)\n",
    "yer[3] = stats.pstdev(x8)\n",
    "yer[4] = stats.pstdev(x10)\n",
    "yer[5] = stats.pstdev(x12)\n",
    "yer[6] = stats.pstdev(x14)\n",
    "yer[7] = stats.pstdev(x16)\n",
    "yer[8] = stats.pstdev(x18)\n",
    "yer[9] = stats.pstdev(x20)"
   ]
  },
  {
   "cell_type": "code",
   "execution_count": 10,
   "metadata": {},
   "outputs": [
    {
     "data": {
      "text/plain": [
       "array([1.30839955, 0.25461566, 0.23035115, 0.23910297, 0.24868223,\n",
       "       0.23758673, 0.23537338, 0.2363702 , 0.22794393, 0.22994118])"
      ]
     },
     "execution_count": 10,
     "metadata": {},
     "output_type": "execute_result"
    }
   ],
   "source": [
    "yer"
   ]
  },
  {
   "cell_type": "code",
   "execution_count": 11,
   "metadata": {},
   "outputs": [
    {
     "data": {
      "image/png": "[encoded data removed]",
      "text/plain": [
       "<Figure size 576x360 with 1 Axes>"
      ]
     },
     "metadata": {
      "needs_background": "light"
     },
     "output_type": "display_data"
    }
   ],
   "source": [
    "fig, ax = plt.subplots(figsize=(8, 5), constrained_layout=True)\n",
    "plt.errorbar(dis, B, yerr=yer, fmt=\".k\", capsize=1, label='Error')\n",
    "plt.plot(dis, B)\n",
    "plt.title('Campo magnético ($\\mu T$) vs Posición (m)')\n",
    "plt.xlabel('Posición (m)')\n",
    "plt.ylabel('Campo magnético ($\\mu T$)')\n",
    "plt.xlim((.07,.21))\n",
    "plt.ylim((-0.2,7))\n",
    "plt.legend()\n",
    "plt.grid()\n",
    "\n",
    "plt.savefig('ampliacion.png')\n",
    "plt.show()"
   ]
  },
  {
   "cell_type": "code",
   "execution_count": 12,
   "metadata": {},
   "outputs": [
    {
     "data": {
      "image/png": "[encoded data removed]",
      "text/plain": [
       "<Figure size 576x360 with 1 Axes>"
      ]
     },
     "metadata": {
      "needs_background": "light"
     },
     "output_type": "display_data"
    }
   ],
   "source": [
    "Bl = np.log(B)\n",
    "disl = np.log(dis)\n",
    "fig, ax = plt.subplots(figsize=(8, 5), constrained_layout=True)\n",
    "plt.scatter(disl, Bl, color='black', label='Datos')\n",
    "plt.plot(disl, Bl)\n",
    "plt.title('Linealización de la gráfica $B$ vs $x$')\n",
    "plt.xlabel('Posición (m)')\n",
    "plt.ylabel('Campo magnético ($\\mu T$)')\n",
    "plt.legend()\n",
    "plt.grid()\n",
    "\n",
    "plt.savefig('lineal.png')\n",
    "plt.show()"
   ]
  },
  {
   "cell_type": "code",
   "execution_count": 14,
   "metadata": {},
   "outputs": [
    {
     "name": "stdout",
     "output_type": "stream",
     "text": [
      "Introduce el grado de la regresion: 1\n",
      "La recta calulada fue la siguiente y =\n",
      "-3.43122858919141x^1\n",
      "-6.989640780331567x^0\n",
      "r calculada fue de: 0.9971223597496535\n",
      "E calculada fue de: 0.32909577406044854\n"
     ]
    },
    {
     "data": {
      "image/png": "[encoded data removed]",
      "text/plain": [
       "<Figure size 576x360 with 1 Axes>"
      ]
     },
     "metadata": {
      "needs_background": "light"
     },
     "output_type": "display_data"
    }
   ],
   "source": [
    "import numpy as np\n",
    "import math\n",
    "import matplotlib.pyplot as plt\n",
    "\n",
    "x = disl\n",
    "y = Bl\n",
    "\n",
    "n = len(y)\n",
    "\n",
    "g = int(input(\"Introduce el grado de la regresion: \"))\n",
    "\n",
    "sx = np.zeros(2*g)\n",
    "sxy = np.zeros(g+1)\n",
    "\n",
    "for j in range((2*g)):\n",
    "    for i in range(n):\n",
    "        sx[j] = x[i]**(j+1) + sx[j]\n",
    "        \n",
    "for j in range((g+1)):\n",
    "    for i in range(n):\n",
    "        sxy[j] = x[i]**(j)*y[i]+sxy[j]\n",
    "        \n",
    "A = np.zeros([g+1,g+1])\n",
    "X = np.zeros(g+1)\n",
    "B = np.zeros([g+1,1])\n",
    "\n",
    "for i in range(g+1):\n",
    "    for j in range(g+1):\n",
    "        if (i+j)!=0:\n",
    "            A[i][j] = sx[i+j-1]\n",
    "        if i==0 and j==0:\n",
    "            A[i][j] = n\n",
    "\n",
    "for i in range(g+1):\n",
    "    B[i] = sxy[i]    \n",
    "\n",
    "MAT = np.concatenate((A,B), axis=1)\n",
    "\n",
    "for j in range((g+1)-1):\n",
    "    for i in range(j+1,(g+1)):\n",
    "        MAT[i][:] = MAT[i][:] + MAT[j][:]*(-MAT[i][j]/MAT[j][j])\n",
    "\n",
    "for i in range((g+1)-1,-1,-1):\n",
    "    suma = 0\n",
    "    \n",
    "    if i<n:\n",
    "        for j in range((g+1)-1,-1,-1):\n",
    "            suma = MAT[i][j]*X[j]+suma\n",
    "            \n",
    "    X[i] = (-suma + MAT[i][g+1])/MAT[i][i]\n",
    "\n",
    "yp = 0\n",
    "e = 0\n",
    "s = 0\n",
    "\n",
    "for i in range(n):\n",
    "    yp = y[i]+yp\n",
    "\n",
    "yp = yp/n\n",
    "\n",
    "for i in range(n):\n",
    "    sume = 0\n",
    "    for j in range(g,-1,-1):\n",
    "        sume = -X[j]*x[i]**(j) + sume\n",
    "    e = (y[i] + sume)**2 + e\n",
    "    s = (y[i]- yp)**2 + s\n",
    "    \n",
    "#print(\"Los datos calculados fueron los siguientes:\")\n",
    "#print(arch.T)\n",
    "r = math.sqrt((s-e)/s)\n",
    "\n",
    "print(\"La recta calulada fue la siguiente y =\")\n",
    "for i in range(g,-1,-1):\n",
    "    print(str(X[i]) + \"x^\" + str(i))\n",
    "    \n",
    "print(\"r calculada fue de: \" + str(r))\n",
    "print(\"E calculada fue de: \" + str(e))   \n",
    "\n",
    "imp = np.zeros(n)\n",
    "\n",
    "for i in range(g,-1,-1):\n",
    "    imp = X[i]*x**i + imp\n",
    "\n",
    "\n",
    "fig, ax = plt.subplots(figsize=(8, 5), constrained_layout=True)\n",
    "plt.plot(x, imp, color='r', label='Ajuste ln B = ln A + nln x, ln B = -6.9896 -3.4312x')\n",
    "plt.scatter(x,y, color='black',label = 'Datos')\n",
    "plt.title('Ajuste lineal de los datos obtenidos')\n",
    "plt.xlabel('Posición (m)')\n",
    "plt.ylabel('Campo magnético ($\\mu T$)')\n",
    "plt.legend()\n",
    "plt.grid()\n",
    "\n",
    "plt.savefig('ajuste.png')\n",
    "plt.show()"
   ]
  },
  {
   "cell_type": "code",
   "execution_count": 15,
   "metadata": {},
   "outputs": [
    {
     "name": "stdout",
     "output_type": "stream",
     "text": [
      "A es igual a: 0.0009213774491315684\n",
      "n es igual a: -3.43122858919141\n"
     ]
    }
   ],
   "source": [
    "print('A es igual a: ' + str(np.exp(-6.989640780331567)))\n",
    "print('n es igual a: ' +str(-3.43122858919141))"
   ]
  },
  {
   "cell_type": "markdown",
   "metadata": {},
   "source": [
    "# Campo magnético en dos imanes"
   ]
  },
  {
   "cell_type": "markdown",
   "metadata": {},
   "source": [
    "### 08 de junio de 2020"
   ]
  },
  {
   "cell_type": "code",
   "execution_count": 44,
   "metadata": {},
   "outputs": [],
   "source": [
    "d = []\n",
    "for i in range(2,21,2):\n",
    "    d.append(pd.read_csv('/Users/guill/Desktop/Proyecto Final/'+str(i)+'.csv'))"
   ]
  },
  {
   "cell_type": "code",
   "execution_count": 45,
   "metadata": {},
   "outputs": [],
   "source": [
    "d2 = d[0]\n",
    "d4 = d[1]\n",
    "d6 = d[2]\n",
    "d8 = d[3]\n",
    "d10 = d[4]\n",
    "d12 = d[5]\n",
    "d14 = d[6]\n",
    "d16 = d[7]\n",
    "d18 = d[8]\n",
    "d20 = d[9]"
   ]
  },
  {
   "cell_type": "code",
   "execution_count": 46,
   "metadata": {},
   "outputs": [
    {
     "data": {
      "text/html": [
       "<div>\n",
       "<style scoped>\n",
       "    .dataframe tbody tr th:only-of-type {\n",
       "        vertical-align: middle;\n",
       "    }\n",
       "\n",
       "    .dataframe tbody tr th {\n",
       "        vertical-align: top;\n",
       "    }\n",
       "\n",
       "    .dataframe thead th {\n",
       "        text-align: right;\n",
       "    }\n",
       "</style>\n",
       "<table border=\"1\" class=\"dataframe\">\n",
       "  <thead>\n",
       "    <tr style=\"text-align: right;\">\n",
       "      <th></th>\n",
       "      <th>Time (s)</th>\n",
       "      <th>Magnetic Field x (µT)</th>\n",
       "      <th>Magnetic Field y (µT)</th>\n",
       "      <th>Magnetic Field z (µT)</th>\n",
       "      <th>Absolute field (µT)</th>\n",
       "    </tr>\n",
       "  </thead>\n",
       "  <tbody>\n",
       "    <tr>\n",
       "      <td>0</td>\n",
       "      <td>0.000000</td>\n",
       "      <td>-157.308960</td>\n",
       "      <td>15.975952</td>\n",
       "      <td>-79.302979</td>\n",
       "      <td>176.890651</td>\n",
       "    </tr>\n",
       "    <tr>\n",
       "      <td>1</td>\n",
       "      <td>0.009979</td>\n",
       "      <td>-157.308960</td>\n",
       "      <td>16.171265</td>\n",
       "      <td>-79.010010</td>\n",
       "      <td>176.777262</td>\n",
       "    </tr>\n",
       "    <tr>\n",
       "      <td>2</td>\n",
       "      <td>0.020020</td>\n",
       "      <td>-157.992554</td>\n",
       "      <td>15.878296</td>\n",
       "      <td>-79.400635</td>\n",
       "      <td>177.533738</td>\n",
       "    </tr>\n",
       "    <tr>\n",
       "      <td>3</td>\n",
       "      <td>0.030029</td>\n",
       "      <td>-157.797241</td>\n",
       "      <td>16.073608</td>\n",
       "      <td>-79.791260</td>\n",
       "      <td>177.552740</td>\n",
       "    </tr>\n",
       "    <tr>\n",
       "      <td>4</td>\n",
       "      <td>0.040009</td>\n",
       "      <td>-157.992554</td>\n",
       "      <td>15.682983</td>\n",
       "      <td>-79.693604</td>\n",
       "      <td>177.647610</td>\n",
       "    </tr>\n",
       "    <tr>\n",
       "      <td>...</td>\n",
       "      <td>...</td>\n",
       "      <td>...</td>\n",
       "      <td>...</td>\n",
       "      <td>...</td>\n",
       "      <td>...</td>\n",
       "    </tr>\n",
       "    <tr>\n",
       "      <td>1131</td>\n",
       "      <td>11.321013</td>\n",
       "      <td>-158.969116</td>\n",
       "      <td>17.831421</td>\n",
       "      <td>-79.986572</td>\n",
       "      <td>178.849074</td>\n",
       "    </tr>\n",
       "    <tr>\n",
       "      <td>1132</td>\n",
       "      <td>11.331023</td>\n",
       "      <td>-158.871460</td>\n",
       "      <td>17.440796</td>\n",
       "      <td>-79.498291</td>\n",
       "      <td>178.505743</td>\n",
       "    </tr>\n",
       "    <tr>\n",
       "      <td>1133</td>\n",
       "      <td>11.341032</td>\n",
       "      <td>-158.773804</td>\n",
       "      <td>17.343140</td>\n",
       "      <td>-80.084229</td>\n",
       "      <td>178.671175</td>\n",
       "    </tr>\n",
       "    <tr>\n",
       "      <td>1134</td>\n",
       "      <td>11.351042</td>\n",
       "      <td>-159.750366</td>\n",
       "      <td>18.417358</td>\n",
       "      <td>-80.670166</td>\n",
       "      <td>179.908461</td>\n",
       "    </tr>\n",
       "    <tr>\n",
       "      <td>1135</td>\n",
       "      <td>11.361052</td>\n",
       "      <td>-160.238648</td>\n",
       "      <td>18.807983</td>\n",
       "      <td>-81.060791</td>\n",
       "      <td>180.557515</td>\n",
       "    </tr>\n",
       "  </tbody>\n",
       "</table>\n",
       "<p>1136 rows × 5 columns</p>\n",
       "</div>"
      ],
      "text/plain": [
       "       Time (s)  Magnetic Field x (µT)  Magnetic Field y (µT)  \\\n",
       "0      0.000000            -157.308960              15.975952   \n",
       "1      0.009979            -157.308960              16.171265   \n",
       "2      0.020020            -157.992554              15.878296   \n",
       "3      0.030029            -157.797241              16.073608   \n",
       "4      0.040009            -157.992554              15.682983   \n",
       "...         ...                    ...                    ...   \n",
       "1131  11.321013            -158.969116              17.831421   \n",
       "1132  11.331023            -158.871460              17.440796   \n",
       "1133  11.341032            -158.773804              17.343140   \n",
       "1134  11.351042            -159.750366              18.417358   \n",
       "1135  11.361052            -160.238648              18.807983   \n",
       "\n",
       "      Magnetic Field z (µT)  Absolute field (µT)  \n",
       "0                -79.302979           176.890651  \n",
       "1                -79.010010           176.777262  \n",
       "2                -79.400635           177.533738  \n",
       "3                -79.791260           177.552740  \n",
       "4                -79.693604           177.647610  \n",
       "...                     ...                  ...  \n",
       "1131             -79.986572           178.849074  \n",
       "1132             -79.498291           178.505743  \n",
       "1133             -80.084229           178.671175  \n",
       "1134             -80.670166           179.908461  \n",
       "1135             -81.060791           180.557515  \n",
       "\n",
       "[1136 rows x 5 columns]"
      ]
     },
     "execution_count": 46,
     "metadata": {},
     "output_type": "execute_result"
    }
   ],
   "source": [
    "d2"
   ]
  },
  {
   "cell_type": "code",
   "execution_count": 47,
   "metadata": {},
   "outputs": [],
   "source": [
    "x2 = d2.iloc[:,1]\n",
    "x4 = d4.iloc[:,1]\n",
    "x6 = d6.iloc[:,1]\n",
    "x8 = d8.iloc[:,1]\n",
    "x10 = d10.iloc[:,1]\n",
    "x12 = d12.iloc[:,1]\n",
    "x14 = d14.iloc[:,1]\n",
    "x16 = d16.iloc[:,1]\n",
    "x18 = d18.iloc[:,1]\n",
    "x20 = d20.iloc[:,1]"
   ]
  },
  {
   "cell_type": "code",
   "execution_count": 48,
   "metadata": {},
   "outputs": [],
   "source": [
    "B = np.zeros(10)\n",
    "B[0] = stats.mean(x2)\n",
    "B[1] = stats.mean(x4)\n",
    "B[2] = stats.mean(x6)\n",
    "B[3] = stats.mean(x8)\n",
    "B[4] = stats.mean(x10)\n",
    "B[5] = stats.mean(x12)\n",
    "B[6] = stats.mean(x14)\n",
    "B[7] = stats.mean(x16)\n",
    "B[8] = stats.mean(x18)\n",
    "B[9] = stats.mean(x20)\n",
    "B = np.abs(B)\n",
    "\n",
    "dis = []\n",
    "for i in range(2,21,2):\n",
    "    dis.append(i)\n",
    "dis = np.array(dis)\n",
    "dis = dis/100"
   ]
  },
  {
   "cell_type": "code",
   "execution_count": 49,
   "metadata": {},
   "outputs": [],
   "source": [
    "yer = np.zeros(10)\n",
    "yer[0] = stats.pstdev(x2)\n",
    "yer[1] = stats.pstdev(x4)\n",
    "yer[2] = stats.pstdev(x6)\n",
    "yer[3] = stats.pstdev(x8)\n",
    "yer[4] = stats.pstdev(x10)\n",
    "yer[5] = stats.pstdev(x12)\n",
    "yer[6] = stats.pstdev(x14)\n",
    "yer[7] = stats.pstdev(x16)\n",
    "yer[8] = stats.pstdev(x18)\n",
    "yer[9] = stats.pstdev(x20)"
   ]
  },
  {
   "cell_type": "code",
   "execution_count": 23,
   "metadata": {},
   "outputs": [
    {
     "data": {
      "image/png": "[encoded data removed]",
      "text/plain": [
       "<Figure size 576x360 with 1 Axes>"
      ]
     },
     "metadata": {
      "needs_background": "light"
     },
     "output_type": "display_data"
    }
   ],
   "source": [
    "fig, ax = plt.subplots(figsize=(8, 5), constrained_layout=True)\n",
    "plt.errorbar(dis, B, yerr=yer, fmt=\".k\", capsize=1, label='Error')\n",
    "plt.plot(dis, B)\n",
    "plt.title('Campo magnético ($\\mu T$) vs Posición (m)')\n",
    "plt.xlabel('Posición (m)')\n",
    "plt.ylabel('Campo magnético ($\\mu T$)')\n",
    "plt.xlim((.07,.21))\n",
    "plt.ylim((-0.2,7))\n",
    "plt.legend()\n",
    "plt.grid()\n",
    "\n",
    "#plt.savefig('ampliacion.png')\n",
    "plt.show()"
   ]
  },
  {
   "cell_type": "code",
   "execution_count": 24,
   "metadata": {},
   "outputs": [
    {
     "data": {
      "image/png": "[encoded data removed]",
      "text/plain": [
       "<Figure size 576x360 with 1 Axes>"
      ]
     },
     "metadata": {
      "needs_background": "light"
     },
     "output_type": "display_data"
    }
   ],
   "source": [
    "Bl = np.log(B)\n",
    "disl = np.log(dis)\n",
    "fig, ax = plt.subplots(figsize=(8, 5), constrained_layout=True)\n",
    "plt.scatter(disl, Bl, color='black', label='Datos')\n",
    "plt.plot(disl, Bl)\n",
    "plt.title('Linealización de la gráfica $B$ vs $x$')\n",
    "plt.xlabel('Posición (m)')\n",
    "plt.ylabel('Campo magnético ($\\mu T$)')\n",
    "plt.legend()\n",
    "plt.grid()\n",
    "\n",
    "plt.savefig('lineal.png')\n",
    "plt.show()"
   ]
  },
  {
   "cell_type": "code",
   "execution_count": 61,
   "metadata": {},
   "outputs": [
    {
     "name": "stdout",
     "output_type": "stream",
     "text": [
      "Introduce el grado de la regresion: 1\n",
      "La recta calulada fue la siguiente y =\n",
      "-2.8929217870550534x^1\n",
      "-6.004490686096466x^0\n",
      "r calculada fue de: 0.9965314658870964\n",
      "E calculada fue de: 0.2822228802874801\n"
     ]
    },
    {
     "data": {
      "image/png": "[encoded data removed]",
      "text/plain": [
       "<Figure size 576x360 with 1 Axes>"
      ]
     },
     "metadata": {
      "needs_background": "light"
     },
     "output_type": "display_data"
    }
   ],
   "source": [
    "import numpy as np\n",
    "import math\n",
    "import matplotlib.pyplot as plt\n",
    "\n",
    "x = disl\n",
    "y = Bl\n",
    "\n",
    "n = len(y)\n",
    "\n",
    "g = int(input(\"Introduce el grado de la regresion: \"))\n",
    "\n",
    "sx = np.zeros(2*g)\n",
    "sxy = np.zeros(g+1)\n",
    "\n",
    "for j in range((2*g)):\n",
    "    for i in range(n):\n",
    "        sx[j] = x[i]**(j+1) + sx[j]\n",
    "        \n",
    "for j in range((g+1)):\n",
    "    for i in range(n):\n",
    "        sxy[j] = x[i]**(j)*y[i]+sxy[j]\n",
    "        \n",
    "A = np.zeros([g+1,g+1])\n",
    "X = np.zeros(g+1)\n",
    "B = np.zeros([g+1,1])\n",
    "\n",
    "for i in range(g+1):\n",
    "    for j in range(g+1):\n",
    "        if (i+j)!=0:\n",
    "            A[i][j] = sx[i+j-1]\n",
    "        if i==0 and j==0:\n",
    "            A[i][j] = n\n",
    "\n",
    "for i in range(g+1):\n",
    "    B[i] = sxy[i]    \n",
    "\n",
    "MAT = np.concatenate((A,B), axis=1)\n",
    "\n",
    "for j in range((g+1)-1):\n",
    "    for i in range(j+1,(g+1)):\n",
    "        MAT[i][:] = MAT[i][:] + MAT[j][:]*(-MAT[i][j]/MAT[j][j])\n",
    "\n",
    "for i in range((g+1)-1,-1,-1):\n",
    "    suma = 0\n",
    "    \n",
    "    if i<n:\n",
    "        for j in range((g+1)-1,-1,-1):\n",
    "            suma = MAT[i][j]*X[j]+suma\n",
    "            \n",
    "    X[i] = (-suma + MAT[i][g+1])/MAT[i][i]\n",
    "\n",
    "yp = 0\n",
    "e = 0\n",
    "s = 0\n",
    "\n",
    "for i in range(n):\n",
    "    yp = y[i]+yp\n",
    "\n",
    "yp = yp/n\n",
    "\n",
    "for i in range(n):\n",
    "    sume = 0\n",
    "    for j in range(g,-1,-1):\n",
    "        sume = -X[j]*x[i]**(j) + sume\n",
    "    e = (y[i] + sume)**2 + e\n",
    "    s = (y[i]- yp)**2 + s\n",
    "    \n",
    "#print(\"Los datos calculados fueron los siguientes:\")\n",
    "#print(arch.T)\n",
    "r = math.sqrt((s-e)/s)\n",
    "\n",
    "print(\"La recta calulada fue la siguiente y =\")\n",
    "for i in range(g,-1,-1):\n",
    "    print(str(X[i]) + \"x^\" + str(i))\n",
    "    \n",
    "print(\"r calculada fue de: \" + str(r))\n",
    "print(\"E calculada fue de: \" + str(e))   \n",
    "\n",
    "imp = np.zeros(n)\n",
    "\n",
    "for i in range(g,-1,-1):\n",
    "    imp = X[i]*x**i + imp\n",
    "\n",
    "\n",
    "fig, ax = plt.subplots(figsize=(8, 5), constrained_layout=True)\n",
    "plt.plot(x, imp, color='r', label='Ajuste ln B = ln A + nln x, ln B = -6.004 -2.8929x')\n",
    "plt.scatter(x,y, color='black',label = 'Datos')\n",
    "plt.title('Ajuste lineal de los datos obtenidos')\n",
    "plt.xlabel('Posición (m)')\n",
    "plt.ylabel('Campo magnético ($\\mu T$)')\n",
    "plt.legend()\n",
    "plt.grid()\n",
    "\n",
    "plt.savefig('ajuste.png')\n",
    "plt.show()"
   ]
  },
  {
   "cell_type": "code",
   "execution_count": 62,
   "metadata": {},
   "outputs": [
    {
     "name": "stdout",
     "output_type": "stream",
     "text": [
      "A es igual a: 0.002467645834941643\n",
      "n es igual a: -2.8929217870550534\n"
     ]
    }
   ],
   "source": [
    "print('A es igual a: ' + str(np.exp(X[0])))\n",
    "print('n es igual a: ' +str(X[1]))"
   ]
  }
 ],
 "metadata": {
  "kernelspec": {
   "display_name": "Python 3",
   "language": "python",
   "name": "python3"
  },
  "language_info": {
   "codemirror_mode": {
    "name": "ipython",
    "version": 3
   },
   "file_extension": ".py",
   "mimetype": "text/x-python",
   "name": "python",
   "nbconvert_exporter": "python",
   "pygments_lexer": "ipython3",
   "version": "3.7.4"
  }
 },
 "nbformat": 4,
 "nbformat_minor": 4
}
