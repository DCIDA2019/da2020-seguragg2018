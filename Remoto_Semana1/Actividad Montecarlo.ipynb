{
 "cells": [
  {
   "cell_type": "markdown",
   "metadata": {},
   "source": [
    "# Clase en linea\n",
    "#### Viernes 27 de marzo de 2020"
   ]
  },
  {
   "cell_type": "markdown",
   "metadata": {},
   "source": [
    "Si se hace una retrospectiva de las útlimas semanas, hemos estado haciendo una construcción para llegar a algo. Primero, aprendimos lo que era estadística, y como podiamos realizar una inferencia, ya que en astrofísica la mayoria de los problemas consisten en una serie de datos de los cuales yo quiero inferir algo, como por ejemplo, ''inferir una serie de parámetros que estan envueltos en el paradigma del LCDM''. Con esto, yo puedo formular una hipótesis, como por ejemplo ''¿es el CMB consistente con un espectro de potencial inicial sin escala y una distribución gaussiana?''. Todo esto con la finalidad de seleccionar un modelo."
   ]
  },
  {
   "cell_type": "markdown",
   "metadata": {},
   "source": [
    "Ya hemos hecho estimación de parámetros, el método de chi square para una recta fue lo que hicimos hace dos semanas, aunque se dificulta y aveces resulta imposible cuando aumenta el número de parámetros aumenta. Hay muchas cosas a considerar cuando realizamos un ajuste en los datos, ¿qué pasa si nuestros datos no siguen una línea recta?, ¿qué pasa si nosotros tenemos mas de dos parámetros libres?, o mas importante, ¿qué pasa si no creemos mucho en las barras de error?. Todo esto nos lleva a ese algo del que se habló al principio, no siempre el conjunto de parámetros que mejor se ajustan a mi modelo es el mas probable de que asi sea, ya que dichos parámetros podrían ser imposibles, es en este momento en el que comenzamos a hablar de probabilidad. Es posible que los datos con mejor ajuste sean los mas probables, pero no siempre es esto cierto y la cosa cada vez se pone mas interesante xd."
   ]
  },
  {
   "cell_type": "markdown",
   "metadata": {},
   "source": [
    "## Likelihood"
   ]
  },
  {
   "cell_type": "markdown",
   "metadata": {},
   "source": [
    "El likelihood o la función likelihood mide la probabilidad de que un modelo se ajuste de la mejor forma a una serie de datos. Tal y como existen distintas distribuciones de probabilidad, existen diferentes tipos de likelihood, el caso mas común y también el caso al que se reducen la mayoria de casos es el gaussiano. \n",
    "\n",
    "$\\begin{equation}\n",
    "L \\propto \\prod_i^n \\frac{1}{2\\pi \\sigma_i^2}exp(-\\frac{(x_i-\\mu)^2}{2\\sigma_i^2})\n",
    "\\end{equation}$\n",
    "\n",
    "Una minimización de la funcion chi square, corresponde a una maximización del likelihood, ya que queremos la mayor probabilidad.\n",
    "\n",
    "Resulta útil eliminar ese feo exponencial y expresar la función de la siguiente forma:\n",
    "\n",
    "$\\begin{equation}\n",
    "-ln(L(\\vec{x},\\vec{y}\\mid \\vec{\\theta})) \\propto \\frac{1}{2}\\sum_i (\\frac{(y_i - \\lambda(x_i,\\vec{\\theta}))^2}{\\sigma_i^2})\n",
    "\\end{equation}$\n",
    "\n",
    "en donde $\\lambda()$ es nuestro modelo para $x_i$\n",
    "\n",
    "Pero, ¿como máximizamos el likelihood si tenemos muchos parámetros? ¿cómo lo hacemos si tenemos un modelo muy complejo? ¿qúe pasa si el likelihood no es gaussiano?"
   ]
  },
  {
   "cell_type": "markdown",
   "metadata": {},
   "source": [
    "## MonteCarlo Markov Chain"
   ]
  },
  {
   "cell_type": "markdown",
   "metadata": {},
   "source": [
    "Este método consiste en generar muestras aleatorias para los parámetros y aceptarlas o rechazarlas de acuerdo al likelihood. Es muy simple, si el likelihood de la nueva muestra es mayor que el likelihood anterior nos quedamos con el. Si el likelihood nuevo es menor que el anterior, entonces elegimos un número random entre 0 y 1, si el radio de los likelihoods (nuevo/viejo) es mayor que ese numero lo aceptamos, si no, no."
   ]
  },
  {
   "cell_type": "code",
   "execution_count": 78,
   "metadata": {},
   "outputs": [],
   "source": [
    "import numpy as np\n",
    "import matplotlib.pyplot as plt"
   ]
  },
  {
   "cell_type": "markdown",
   "metadata": {},
   "source": [
    "Primero, definimos nuestra función likelihood y nuestra funcion MonteCarlo"
   ]
  },
  {
   "cell_type": "code",
   "execution_count": 79,
   "metadata": {},
   "outputs": [],
   "source": [
    "def likelihood(x, y, sigma, modelo, parametro):\n",
    "    return (-1/2)*np.sum(((y-modelo(x, parametro))**2)/sigma**2)"
   ]
  },
  {
   "cell_type": "code",
   "execution_count": 80,
   "metadata": {},
   "outputs": [],
   "source": [
    "def montecarlo_chain(x, y, sigma, modelo, p_i, n):\n",
    "\n",
    "    L_v = likelihood(x, y, sigma, modelo, p_i)\n",
    "    markov_chain = []\n",
    "    markov_chain.append([p_i, L_v])\n",
    "    \n",
    "    s = [0.1, 0.1]\n",
    "    \n",
    "    for i in range(n):\n",
    "        p_n = []\n",
    "        p_n = [np.random.normal(p_i[0], s[0]), np.random.normal(p_i[1], s[1])]\n",
    "        \n",
    "        L_n = likelihood(x, y, sigma, modelo, p_n)\n",
    "        \n",
    "        if (L_n>L_v):\n",
    "            markov_chain.append([p_n, L_n])\n",
    "            p_i = p_n \n",
    "            L_v = L_n\n",
    "            continue\n",
    "        elif  ((np.exp(L_n)/np.exp(L_v)) > np.random.randn()):\n",
    "            markov_chain.append([p_n, L_n])\n",
    "        \n",
    "    else:     \n",
    "        return markov_chain\n",
    "        \n",
    "    return markov_chain"
   ]
  },
  {
   "cell_type": "markdown",
   "metadata": {},
   "source": [
    "### Utilizando como modelo una recta"
   ]
  },
  {
   "cell_type": "markdown",
   "metadata": {},
   "source": [
    "El modelo que vamos a utilizar es una recta, tenemos valores reales de los parámetros y una desviación estándar de 0.1."
   ]
  },
  {
   "cell_type": "code",
   "execution_count": 81,
   "metadata": {},
   "outputs": [],
   "source": [
    "def modelo(x, parametro):\n",
    "    return x*parametro[0]+parametro[1]\n",
    "\n",
    "x = np.linspace(0,10,1000)\n",
    "p_reales = [4, 9]\n",
    "\n",
    "des = np.zeros(len(x))\n",
    "for i in range(len(x)):\n",
    "    des[i] = 0.1\n",
    "\n",
    "y = x*p_reales[0] + p_reales[1]"
   ]
  },
  {
   "cell_type": "markdown",
   "metadata": {},
   "source": [
    "Definimos nuestro parámetro inicial"
   ]
  },
  {
   "cell_type": "code",
   "execution_count": 82,
   "metadata": {},
   "outputs": [],
   "source": [
    "p_i = [2,2]"
   ]
  },
  {
   "cell_type": "markdown",
   "metadata": {},
   "source": [
    "Aplicamos el método de MonteCarlo Chain"
   ]
  },
  {
   "cell_type": "code",
   "execution_count": 83,
   "metadata": {},
   "outputs": [
    {
     "name": "stderr",
     "output_type": "stream",
     "text": [
      "C:\\Users\\guill\\Anaconda3\\lib\\site-packages\\ipykernel_launcher.py:20: RuntimeWarning: invalid value encountered in double_scalars\n"
     ]
    }
   ],
   "source": [
    "a = montecarlo_chain(x,y,des,modelo, p_i, 1000)"
   ]
  },
  {
   "cell_type": "markdown",
   "metadata": {},
   "source": [
    "Graficamos primero la función likelihood para ver como evoluciona conforme aumentan los puntos."
   ]
  },
  {
   "cell_type": "code",
   "execution_count": 84,
   "metadata": {},
   "outputs": [
    {
     "data": {
      "image/png": "[encoded data removed]",
      "text/plain": [
       "<Figure size 432x288 with 1 Axes>"
      ]
     },
     "metadata": {
      "needs_background": "light"
     },
     "output_type": "display_data"
    }
   ],
   "source": [
    "puntos = [x for x,y in a]\n",
    "lik = [y for x, y in a]\n",
    "\n",
    "x_fin = [x for x, y in puntos]\n",
    "y_fin = [y for x, y in puntos]\n",
    "    \n",
    "plt.plot(lik, color='g')\n",
    "plt.title('Función Likelihood')\n",
    "plt.xlabel('x')\n",
    "plt.ylabel('L(x)')\n",
    "plt.grid()"
   ]
  },
  {
   "cell_type": "markdown",
   "metadata": {},
   "source": [
    "Graficamos la pendiente contra la ordenada al origen, es super interesante ver como la cadena avanza hasta llegar a los valores reales."
   ]
  },
  {
   "cell_type": "code",
   "execution_count": 105,
   "metadata": {},
   "outputs": [
    {
     "data": {
      "image/png": "[encoded data removed]",
      "text/plain": [
       "<Figure size 432x288 with 1 Axes>"
      ]
     },
     "metadata": {
      "needs_background": "light"
     },
     "output_type": "display_data"
    }
   ],
   "source": [
    "plt.scatter(x_fin, y_fin, color='black',s=5)\n",
    "plt.title('MonteCarlo Markov Chain')\n",
    "plt.xlabel('Pendiente')\n",
    "plt.ylabel('Ordenada al origen')\n",
    "plt.grid()"
   ]
  },
  {
   "cell_type": "code",
   "execution_count": 102,
   "metadata": {},
   "outputs": [],
   "source": [
    "x_f = []\n",
    "for i in range(len(x_fin)):\n",
    "    if 3.5<x_fin[i] and x_fin[i]<4.5:\n",
    "        x_f.append(x_fin[i])\n",
    "y_f = []\n",
    "for i in range(len(x_fin)):\n",
    "    if 8.5<y_fin[i] and y_fin[i]<10:\n",
    "        y_f.append(y_fin[i])"
   ]
  },
  {
   "cell_type": "markdown",
   "metadata": {},
   "source": [
    "Vemos que los parámetros tienen una distribución gaussiana al momento de acercarse a los valores reales."
   ]
  },
  {
   "cell_type": "code",
   "execution_count": 103,
   "metadata": {},
   "outputs": [
    {
     "data": {
      "image/png": "[encoded data removed]",
      "text/plain": [
       "<Figure size 432x288 with 1 Axes>"
      ]
     },
     "metadata": {
      "needs_background": "light"
     },
     "output_type": "display_data"
    }
   ],
   "source": [
    "plt.hist(x_f,100)\n",
    "plt.title('Distribución de la pendiente entre 3.5 y 4.5')\n",
    "plt.xlabel('Valor de la pendiente')\n",
    "plt.ylabel('Frecuencia')\n",
    "plt.grid()\n",
    "plt.show()"
   ]
  },
  {
   "cell_type": "code",
   "execution_count": 104,
   "metadata": {},
   "outputs": [
    {
     "data": {
      "image/png": "[encoded data removed]",
      "text/plain": [
       "<Figure size 432x288 with 1 Axes>"
      ]
     },
     "metadata": {
      "needs_background": "light"
     },
     "output_type": "display_data"
    }
   ],
   "source": [
    "plt.hist(y_f,100)\n",
    "plt.title('Distribución de la ordenada al origen entre 8 y 10')\n",
    "plt.xlabel('Valor de la ordenada al origen')\n",
    "plt.ylabel('Frecuencia')\n",
    "plt.grid()\n",
    "plt.show()"
   ]
  },
  {
   "cell_type": "markdown",
   "metadata": {},
   "source": [
    "Finalmente imprimimos los valores calculados"
   ]
  },
  {
   "cell_type": "code",
   "execution_count": 100,
   "metadata": {},
   "outputs": [
    {
     "name": "stdout",
     "output_type": "stream",
     "text": [
      "La aproximación para la pendiente es: 3.919287953250861\n",
      "La aproximación para la ordenada al origen es: 8.971848540637993\n",
      "Los valores reales con los que se trabajo eran: [4, 9] respectivamente\n"
     ]
    }
   ],
   "source": [
    "print('La aproximación para la pendiente es: ' + str(x_fin[len(x_fin)-1]))\n",
    "print('La aproximación para la ordenada al origen es: ' + str(y_fin[len(y_fin)-1]))\n",
    "print('Los valores reales con los que se trabajo eran: ' + str(p_reales) + ' respectivamente')"
   ]
  }
 ],
 "metadata": {
  "kernelspec": {
   "display_name": "Python 3",
   "language": "python",
   "name": "python3"
  },
  "language_info": {
   "codemirror_mode": {
    "name": "ipython",
    "version": 3
   },
   "file_extension": ".py",
   "mimetype": "text/x-python",
   "name": "python",
   "nbconvert_exporter": "python",
   "pygments_lexer": "ipython3",
   "version": "3.7.4"
  }
 },
 "nbformat": 4,
 "nbformat_minor": 4
}
