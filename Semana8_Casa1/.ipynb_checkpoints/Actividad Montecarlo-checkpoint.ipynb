{
 "cells": [
  {
   "cell_type": "markdown",
   "metadata": {},
   "source": [
    "# Clase en linea\n",
    "#### Viernes 27 de marzo de 2020"
   ]
  },
  {
   "cell_type": "markdown",
   "metadata": {},
   "source": [
    "Si se hace una retrospectiva de las útlimas semanas, hemos estado haciendo una construcción para llegar a algo. Primero, aprendimos lo que era estadística, y como podiamos realizar una inferencia, ya que en astrofísica la mayoria de los problemas consisten en una serie de datos de los cuales yo quiero inferir algo, como por ejemplo, $\\textit{inferir una serie de parámetros que estan envueltos en el paradigma del LCDM}$. Con esto, yo puedo formular una hipótesis, como por ejemplo $\\textit{¿es el CMB consistente con un espectro de potencial inicial sin escala y una distribución gaussiana?}$. Todo esto con la finalidad de seleccionar un modelo."
   ]
  },
  {
   "cell_type": "markdown",
   "metadata": {},
   "source": [
    "Ya hemos hecho estimación de parámetros, el método de chi square para una recta fue lo que hicimos hace dos semanas, aunque se dificulta y aveces resulta imposible cuando aumenta el número de parámetros aumenta. Hay muchas cosas a considerar cuando realizamos un ajuste en los datos, ¿qué pasa si nuestros datos no siguen una línea recta?, ¿qué pasa si nosotros tenemos mas de dos parámetros libres?, o mas importante, ¿qué pasa si no creemos mucho en las barras de error?. Todo esto nos lleva a ese algo del que se habló al principio, no siempre el conjunto de parámetros que mejor se ajustan a mi modelo es el mas probable de que asi sea, ya que dichos parámetros podrían ser imposibles, es en este momento en el que comenzamos a hablar de probabilidad. Es posible que los datos con mejor ajuste sean los mas probables, pero no siempre es esto cierto y la cosa cada vez se pone mas interesante xd."
   ]
  },
  {
   "cell_type": "markdown",
   "metadata": {},
   "source": [
    "## Likelihood"
   ]
  },
  {
   "cell_type": "markdown",
   "metadata": {},
   "source": [
    "El likelihood o la función likelihood mide la probabilidad de que un modelo se ajuste de la mejor forma a una serie de datos. Tal y como existen distintas distribuciones de probabilidad, existen diferentes tipos de likelihood, el caso mas común y también el caso al que se reducen la mayoria de casos es el gaussiano. \n",
    "\n",
    "$\\begin{equation}\n",
    "L \\propto \\prod_i^n \\frac{1}{2\\pi \\sigma_i^2}exp(-\\frac{(x_i-\\mu)^2}{2\\sigma_i^2})\n",
    "\\end{equation}$\n",
    "\n",
    "Una minimización de la funcion chi square, corresponde a una maximización del likelihood, ya que queremos la mayor probabilidad.\n",
    "\n",
    "Resulta útil eliminar ese feo exponencial y expresar la función de la siguiente forma:\n",
    "\n",
    "$\\begin{equation}\n",
    "-ln(L(\\vec{x},\\vec{y}\\mid \\vec{\\theta})) \\propto \\frac{1}{2}\\sum_i (\\frac{(y_i - \\lambda(x_i,\\vec{\\theta}))^2}{\\sigma_i^2})\n",
    "\\end{equation}$\n",
    "\n",
    "en donde $\\lambda()$ es nuestro modelo para $x_i$\n",
    "\n",
    "Pero, ¿como máximizamos el likelihood si tenemos muchos parámetros? ¿cómo lo hacemos si tenemos un modelo muy complejo? ¿qúe pasa si el likelihood no es gaussiano?"
   ]
  },
  {
   "cell_type": "markdown",
   "metadata": {},
   "source": [
    "## MonteCarlo Markov Chain"
   ]
  },
  {
   "cell_type": "markdown",
   "metadata": {},
   "source": [
    "Este método consiste en generar muestras aleatorias para los parámetros y aceptarlas o rechazarlas de acuerdo al likelihood."
   ]
  },
  {
   "cell_type": "code",
   "execution_count": 4,
   "metadata": {},
   "outputs": [],
   "source": [
    "import numpy as np\n",
    "import matplotlib.pyplot as plt"
   ]
  },
  {
   "cell_type": "markdown",
   "metadata": {},
   "source": [
    "Primero, definimos nuestra función likelihood y nuestra funcion MonteCarlo"
   ]
  },
  {
   "cell_type": "code",
   "execution_count": 19,
   "metadata": {},
   "outputs": [],
   "source": [
    "def likelihood(x, y, sigma, modelo, parametro):\n",
    "    return (-1/2)*np.sum(((y-modelo(x, parametro))**2)/sigma**2)"
   ]
  },
  {
   "cell_type": "code",
   "execution_count": 113,
   "metadata": {},
   "outputs": [],
   "source": [
    "#Nuestro modelo es una recta\n",
    "def modelo(x, parametro):\n",
    "    return x*parametro[0]+parametro[1]\n",
    "\n",
    "x = np.linspace(0,10,1000)\n",
    "p_reales = [10, 15]\n",
    "des = np.zeros(len(x))\n",
    "for i in range(len(x)):\n",
    "    des[i] = 0.1\n",
    "\n",
    "y = x*p_reales[0] + p_reales[1]"
   ]
  },
  {
   "cell_type": "code",
   "execution_count": 142,
   "metadata": {},
   "outputs": [],
   "source": [
    "p_i = [4,10]"
   ]
  },
  {
   "cell_type": "code",
   "execution_count": 143,
   "metadata": {},
   "outputs": [
    {
     "data": {
      "text/plain": [
       "-76280030.03003001"
      ]
     },
     "execution_count": 143,
     "metadata": {},
     "output_type": "execute_result"
    }
   ],
   "source": [
    "likelihood(x, y, des, modelo, p_i)"
   ]
  },
  {
   "cell_type": "code",
   "execution_count": 175,
   "metadata": {},
   "outputs": [],
   "source": [
    "def montecarlo_chain(x, y, sigma, modelo, p_i, n):\n",
    "\n",
    "    L_v = likelihood(x, y, sigma, modelo, p_i)\n",
    "    markov_chain = []\n",
    "    markov_chain.append([p_i, L_v])\n",
    "    \n",
    "    for i in range(n):\n",
    "        p_n = []\n",
    "        p_n = [np.random.uniform(p_i[0]-sigma[0], p_i[0]+sigma[0]), np.random.uniform(p_i[1]-sigma[0], p_i[1]+sigma[0]) ]\n",
    "        \n",
    "        L_n = likelihood(x, y, sigma, modelo, p_n)\n",
    "        \n",
    "        if (L_n>L_v):\n",
    "            markov_chain.append([p_n, L_n])\n",
    "            p_i = p_n \n",
    "            L_v = L_n\n",
    "            continue\n",
    "        elif  (L_n/L_v > np.random.randn()):\n",
    "            markov_chain.append([p_n, L_n])\n",
    "        \n",
    "    else:     \n",
    "        return markov_chain\n",
    "        \n",
    "    return markov_chain"
   ]
  },
  {
   "cell_type": "code",
   "execution_count": 176,
   "metadata": {},
   "outputs": [],
   "source": [
    "a = montecarlo_chain(x,y,des,modelo, p_i, 1000)"
   ]
  },
  {
   "cell_type": "code",
   "execution_count": 177,
   "metadata": {},
   "outputs": [],
   "source": [
    "lik = np.zeros(len(a))\n",
    "for i in range(len(a)):\n",
    "    lik[i] = a[i][1]"
   ]
  },
  {
   "cell_type": "code",
   "execution_count": 178,
   "metadata": {},
   "outputs": [
    {
     "data": {
      "text/plain": [
       "[<matplotlib.lines.Line2D at 0x1ef2ed5d4c8>]"
      ]
     },
     "execution_count": 178,
     "metadata": {},
     "output_type": "execute_result"
    },
    {
     "data": {
      "image/png": "[encoded data removed]",
      "text/plain": [
       "<Figure size 432x288 with 1 Axes>"
      ]
     },
     "metadata": {
      "needs_background": "light"
     },
     "output_type": "display_data"
    }
   ],
   "source": [
    "plt.plot(lik)"
   ]
  },
  {
   "cell_type": "code",
   "execution_count": null,
   "metadata": {},
   "outputs": [],
   "source": []
  }
 ],
 "metadata": {
  "kernelspec": {
   "display_name": "Python 3",
   "language": "python",
   "name": "python3"
  },
  "language_info": {
   "codemirror_mode": {
    "name": "ipython",
    "version": 3
   },
   "file_extension": ".py",
   "mimetype": "text/x-python",
   "name": "python",
   "nbconvert_exporter": "python",
   "pygments_lexer": "ipython3",
   "version": "3.7.4"
  }
 },
 "nbformat": 4,
 "nbformat_minor": 4
}
