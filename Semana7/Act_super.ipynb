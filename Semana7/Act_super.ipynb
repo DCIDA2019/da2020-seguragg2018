{
 "cells": [
  {
   "cell_type": "markdown",
   "metadata": {
    "colab_type": "text",
    "id": "Omno5jR6JCxu"
   },
   "source": [
    "# Supernovas"
   ]
  },
  {
   "cell_type": "markdown",
   "metadata": {
    "colab_type": "text",
    "id": "a_mMfs9kIuC3"
   },
   "source": [
    "Para esta actividad, se van a calcular las distancias a las supernovas en función del corrimiento al rojo. Fue muy triste puesto que no pude instalar la libreria CosmoloPy en mi computadora, por lo que para este ejericio utilicé Google Colab"
   ]
  },
  {
   "cell_type": "code",
   "execution_count": 0,
   "metadata": {
    "colab": {},
    "colab_type": "code",
    "id": "jpHOiKJM9qrx"
   },
   "outputs": [],
   "source": [
    "import numpy as np\n",
    "import matplotlib.pyplot as plt\n",
    "import pandas as pd\n",
    "import cosmolopy.distance as cod\n",
    "from scipy.optimize import minimize"
   ]
  },
  {
   "cell_type": "code",
   "execution_count": 0,
   "metadata": {
    "colab": {},
    "colab_type": "code",
    "id": "RxGoQ4JBEnqF"
   },
   "outputs": [],
   "source": [
    "!wget -cq https://raw.githubusercontent.com/DCIDA2019/da2020-seguragg2018/master/datos/jla_lcparams.txt"
   ]
  },
  {
   "cell_type": "code",
   "execution_count": 99,
   "metadata": {
    "colab": {
     "base_uri": "https://localhost:8080/",
     "height": 439
    },
    "colab_type": "code",
    "id": "7feYr1Hs9qr3",
    "outputId": "b2cb8fff-5552-43fc-b429-8ea6941e6e08"
   },
   "outputs": [
    {
     "data": {
      "text/html": [
       "<div>\n",
       "<style scoped>\n",
       "    .dataframe tbody tr th:only-of-type {\n",
       "        vertical-align: middle;\n",
       "    }\n",
       "\n",
       "    .dataframe tbody tr th {\n",
       "        vertical-align: top;\n",
       "    }\n",
       "\n",
       "    .dataframe thead th {\n",
       "        text-align: right;\n",
       "    }\n",
       "</style>\n",
       "<table border=\"1\" class=\"dataframe\">\n",
       "  <thead>\n",
       "    <tr style=\"text-align: right;\">\n",
       "      <th></th>\n",
       "      <th>#name</th>\n",
       "      <th>zcmb</th>\n",
       "      <th>zhel</th>\n",
       "      <th>dz</th>\n",
       "      <th>mb</th>\n",
       "      <th>dmb</th>\n",
       "      <th>x1</th>\n",
       "      <th>dx1</th>\n",
       "      <th>color</th>\n",
       "      <th>dcolor</th>\n",
       "      <th>3rdvar</th>\n",
       "      <th>d3rdvar</th>\n",
       "      <th>tmax</th>\n",
       "      <th>dtmax</th>\n",
       "      <th>cov_m_s</th>\n",
       "      <th>cov_m_c</th>\n",
       "      <th>cov_s_c</th>\n",
       "      <th>set</th>\n",
       "      <th>ra</th>\n",
       "      <th>dec</th>\n",
       "      <th>biascor</th>\n",
       "    </tr>\n",
       "  </thead>\n",
       "  <tbody>\n",
       "    <tr>\n",
       "      <th>0</th>\n",
       "      <td>03D1au</td>\n",
       "      <td>0.503084</td>\n",
       "      <td>0.504300</td>\n",
       "      <td>0</td>\n",
       "      <td>23.001698</td>\n",
       "      <td>0.088031</td>\n",
       "      <td>1.273191</td>\n",
       "      <td>0.150058</td>\n",
       "      <td>-0.012353</td>\n",
       "      <td>0.030011</td>\n",
       "      <td>9.517000</td>\n",
       "      <td>0.110500</td>\n",
       "      <td>52909.745220</td>\n",
       "      <td>0.214332</td>\n",
       "      <td>0.000790</td>\n",
       "      <td>0.000440</td>\n",
       "      <td>-0.000030</td>\n",
       "      <td>1</td>\n",
       "      <td>36.043210</td>\n",
       "      <td>-4.037469</td>\n",
       "      <td>0.001697</td>\n",
       "    </tr>\n",
       "    <tr>\n",
       "      <th>1</th>\n",
       "      <td>03D1aw</td>\n",
       "      <td>0.580724</td>\n",
       "      <td>0.582000</td>\n",
       "      <td>0</td>\n",
       "      <td>23.573937</td>\n",
       "      <td>0.090132</td>\n",
       "      <td>0.974346</td>\n",
       "      <td>0.273823</td>\n",
       "      <td>-0.025076</td>\n",
       "      <td>0.036691</td>\n",
       "      <td>9.169000</td>\n",
       "      <td>0.088000</td>\n",
       "      <td>52902.898002</td>\n",
       "      <td>0.352732</td>\n",
       "      <td>0.002823</td>\n",
       "      <td>0.000415</td>\n",
       "      <td>0.001574</td>\n",
       "      <td>1</td>\n",
       "      <td>36.061634</td>\n",
       "      <td>-4.517158</td>\n",
       "      <td>0.000843</td>\n",
       "    </tr>\n",
       "    <tr>\n",
       "      <th>2</th>\n",
       "      <td>03D1ax</td>\n",
       "      <td>0.494795</td>\n",
       "      <td>0.496000</td>\n",
       "      <td>0</td>\n",
       "      <td>22.960139</td>\n",
       "      <td>0.088110</td>\n",
       "      <td>-0.728837</td>\n",
       "      <td>0.102069</td>\n",
       "      <td>-0.099683</td>\n",
       "      <td>0.030305</td>\n",
       "      <td>11.580000</td>\n",
       "      <td>0.112500</td>\n",
       "      <td>52915.923670</td>\n",
       "      <td>0.111634</td>\n",
       "      <td>0.000542</td>\n",
       "      <td>0.000475</td>\n",
       "      <td>-0.000024</td>\n",
       "      <td>1</td>\n",
       "      <td>36.097287</td>\n",
       "      <td>-4.720774</td>\n",
       "      <td>0.001692</td>\n",
       "    </tr>\n",
       "    <tr>\n",
       "      <th>3</th>\n",
       "      <td>03D1bp</td>\n",
       "      <td>0.345928</td>\n",
       "      <td>0.347000</td>\n",
       "      <td>0</td>\n",
       "      <td>22.398137</td>\n",
       "      <td>0.087263</td>\n",
       "      <td>-1.155110</td>\n",
       "      <td>0.112834</td>\n",
       "      <td>-0.040581</td>\n",
       "      <td>0.026679</td>\n",
       "      <td>10.821000</td>\n",
       "      <td>0.123500</td>\n",
       "      <td>52920.249015</td>\n",
       "      <td>0.102828</td>\n",
       "      <td>0.001114</td>\n",
       "      <td>0.000616</td>\n",
       "      <td>0.000295</td>\n",
       "      <td>1</td>\n",
       "      <td>36.657235</td>\n",
       "      <td>-4.838779</td>\n",
       "      <td>-0.000270</td>\n",
       "    </tr>\n",
       "    <tr>\n",
       "      <th>4</th>\n",
       "      <td>03D1co</td>\n",
       "      <td>0.677662</td>\n",
       "      <td>0.679000</td>\n",
       "      <td>0</td>\n",
       "      <td>24.078115</td>\n",
       "      <td>0.098356</td>\n",
       "      <td>0.618820</td>\n",
       "      <td>0.404295</td>\n",
       "      <td>-0.039380</td>\n",
       "      <td>0.067403</td>\n",
       "      <td>8.647000</td>\n",
       "      <td>0.284000</td>\n",
       "      <td>52954.458342</td>\n",
       "      <td>0.454715</td>\n",
       "      <td>0.011857</td>\n",
       "      <td>0.000780</td>\n",
       "      <td>0.005898</td>\n",
       "      <td>1</td>\n",
       "      <td>36.567748</td>\n",
       "      <td>-4.935050</td>\n",
       "      <td>-0.002855</td>\n",
       "    </tr>\n",
       "    <tr>\n",
       "      <th>...</th>\n",
       "      <td>...</td>\n",
       "      <td>...</td>\n",
       "      <td>...</td>\n",
       "      <td>...</td>\n",
       "      <td>...</td>\n",
       "      <td>...</td>\n",
       "      <td>...</td>\n",
       "      <td>...</td>\n",
       "      <td>...</td>\n",
       "      <td>...</td>\n",
       "      <td>...</td>\n",
       "      <td>...</td>\n",
       "      <td>...</td>\n",
       "      <td>...</td>\n",
       "      <td>...</td>\n",
       "      <td>...</td>\n",
       "      <td>...</td>\n",
       "      <td>...</td>\n",
       "      <td>...</td>\n",
       "      <td>...</td>\n",
       "      <td>...</td>\n",
       "    </tr>\n",
       "    <tr>\n",
       "      <th>735</th>\n",
       "      <td>sn2007co</td>\n",
       "      <td>0.027064</td>\n",
       "      <td>0.026962</td>\n",
       "      <td>0</td>\n",
       "      <td>16.504006</td>\n",
       "      <td>0.141685</td>\n",
       "      <td>-0.137806</td>\n",
       "      <td>0.061153</td>\n",
       "      <td>0.105288</td>\n",
       "      <td>0.020382</td>\n",
       "      <td>10.519608</td>\n",
       "      <td>0.280891</td>\n",
       "      <td>54265.212054</td>\n",
       "      <td>0.056635</td>\n",
       "      <td>0.000095</td>\n",
       "      <td>0.000377</td>\n",
       "      <td>0.000007</td>\n",
       "      <td>3</td>\n",
       "      <td>275.765000</td>\n",
       "      <td>29.897050</td>\n",
       "      <td>-0.009803</td>\n",
       "    </tr>\n",
       "    <tr>\n",
       "      <th>736</th>\n",
       "      <td>sn2007cq</td>\n",
       "      <td>0.025468</td>\n",
       "      <td>0.025918</td>\n",
       "      <td>0</td>\n",
       "      <td>15.797848</td>\n",
       "      <td>0.143429</td>\n",
       "      <td>-0.657941</td>\n",
       "      <td>0.115645</td>\n",
       "      <td>-0.060805</td>\n",
       "      <td>0.025820</td>\n",
       "      <td>9.704507</td>\n",
       "      <td>0.280891</td>\n",
       "      <td>54281.025669</td>\n",
       "      <td>0.070944</td>\n",
       "      <td>0.000392</td>\n",
       "      <td>0.000639</td>\n",
       "      <td>0.000075</td>\n",
       "      <td>3</td>\n",
       "      <td>333.668430</td>\n",
       "      <td>5.080160</td>\n",
       "      <td>-0.009575</td>\n",
       "    </tr>\n",
       "    <tr>\n",
       "      <th>737</th>\n",
       "      <td>sn2007f</td>\n",
       "      <td>0.023810</td>\n",
       "      <td>0.023590</td>\n",
       "      <td>0</td>\n",
       "      <td>15.895501</td>\n",
       "      <td>0.144315</td>\n",
       "      <td>0.618766</td>\n",
       "      <td>0.041400</td>\n",
       "      <td>-0.055411</td>\n",
       "      <td>0.026006</td>\n",
       "      <td>10.027000</td>\n",
       "      <td>0.118500</td>\n",
       "      <td>54124.058397</td>\n",
       "      <td>0.045234</td>\n",
       "      <td>-0.000055</td>\n",
       "      <td>0.000645</td>\n",
       "      <td>-0.000180</td>\n",
       "      <td>3</td>\n",
       "      <td>195.812750</td>\n",
       "      <td>50.618760</td>\n",
       "      <td>-0.009361</td>\n",
       "    </tr>\n",
       "    <tr>\n",
       "      <th>738</th>\n",
       "      <td>sn2007qe</td>\n",
       "      <td>0.023867</td>\n",
       "      <td>0.024000</td>\n",
       "      <td>0</td>\n",
       "      <td>16.068268</td>\n",
       "      <td>0.144350</td>\n",
       "      <td>0.760605</td>\n",
       "      <td>0.045650</td>\n",
       "      <td>0.052186</td>\n",
       "      <td>0.026200</td>\n",
       "      <td>6.000000</td>\n",
       "      <td>5.000000</td>\n",
       "      <td>54429.852171</td>\n",
       "      <td>0.037486</td>\n",
       "      <td>0.000101</td>\n",
       "      <td>0.000654</td>\n",
       "      <td>-0.000076</td>\n",
       "      <td>3</td>\n",
       "      <td>358.553990</td>\n",
       "      <td>27.409170</td>\n",
       "      <td>-0.009368</td>\n",
       "    </tr>\n",
       "    <tr>\n",
       "      <th>739</th>\n",
       "      <td>sn2008bf</td>\n",
       "      <td>0.022068</td>\n",
       "      <td>0.021275</td>\n",
       "      <td>0</td>\n",
       "      <td>15.718540</td>\n",
       "      <td>0.144685</td>\n",
       "      <td>0.430639</td>\n",
       "      <td>0.068523</td>\n",
       "      <td>-0.038367</td>\n",
       "      <td>0.021262</td>\n",
       "      <td>11.212000</td>\n",
       "      <td>0.156500</td>\n",
       "      <td>54555.109466</td>\n",
       "      <td>0.090470</td>\n",
       "      <td>0.000136</td>\n",
       "      <td>0.000409</td>\n",
       "      <td>-0.000104</td>\n",
       "      <td>3</td>\n",
       "      <td>181.011990</td>\n",
       "      <td>20.245080</td>\n",
       "      <td>-0.009159</td>\n",
       "    </tr>\n",
       "  </tbody>\n",
       "</table>\n",
       "<p>740 rows × 21 columns</p>\n",
       "</div>"
      ],
      "text/plain": [
       "        #name      zcmb      zhel  dz  ...  set          ra        dec   biascor\n",
       "0      03D1au  0.503084  0.504300   0  ...    1   36.043210  -4.037469  0.001697\n",
       "1      03D1aw  0.580724  0.582000   0  ...    1   36.061634  -4.517158  0.000843\n",
       "2      03D1ax  0.494795  0.496000   0  ...    1   36.097287  -4.720774  0.001692\n",
       "3      03D1bp  0.345928  0.347000   0  ...    1   36.657235  -4.838779 -0.000270\n",
       "4      03D1co  0.677662  0.679000   0  ...    1   36.567748  -4.935050 -0.002855\n",
       "..        ...       ...       ...  ..  ...  ...         ...        ...       ...\n",
       "735  sn2007co  0.027064  0.026962   0  ...    3  275.765000  29.897050 -0.009803\n",
       "736  sn2007cq  0.025468  0.025918   0  ...    3  333.668430   5.080160 -0.009575\n",
       "737   sn2007f  0.023810  0.023590   0  ...    3  195.812750  50.618760 -0.009361\n",
       "738  sn2007qe  0.023867  0.024000   0  ...    3  358.553990  27.409170 -0.009368\n",
       "739  sn2008bf  0.022068  0.021275   0  ...    3  181.011990  20.245080 -0.009159\n",
       "\n",
       "[740 rows x 21 columns]"
      ]
     },
     "execution_count": 99,
     "metadata": {
      "tags": []
     },
     "output_type": "execute_result"
    }
   ],
   "source": [
    "data = pd.read_csv('jla_lcparams.txt', sep=' ')\n",
    "data"
   ]
  },
  {
   "cell_type": "markdown",
   "metadata": {
    "colab_type": "text",
    "id": "RM9UsQHa9qr9"
   },
   "source": [
    "$\\mu = m_B^* -(M_B-a \\times X_1 \\times \\beta \\times C)$"
   ]
  },
  {
   "cell_type": "markdown",
   "metadata": {
    "colab_type": "text",
    "id": "JJz08hQbMYLr"
   },
   "source": [
    "## Mu observado"
   ]
  },
  {
   "cell_type": "code",
   "execution_count": 0,
   "metadata": {
    "colab": {},
    "colab_type": "code",
    "id": "4Jz3e03f9qr-"
   },
   "outputs": [],
   "source": [
    "func = np.zeros(740)\n",
    "def mus(w):\n",
    "    for i in range(740):\n",
    "        func[i] = data.iloc[i,4]-(w[2]-w[0]*data.iloc[i,6]*w[1]*data.iloc[i,8])\n",
    "    return func"
   ]
  },
  {
   "cell_type": "code",
   "execution_count": 0,
   "metadata": {
    "colab": {},
    "colab_type": "code",
    "id": "elp1GpnZ9qsE"
   },
   "outputs": [],
   "source": [
    "a =  0.141\n",
    "b = 3.101\n",
    "mb = -19.05\n",
    "w = [0.1, 3, -19, 0.5]"
   ]
  },
  {
   "cell_type": "code",
   "execution_count": 113,
   "metadata": {
    "colab": {
     "base_uri": "https://localhost:8080/",
     "height": 385
    },
    "colab_type": "code",
    "id": "yHmCDy61y3iE",
    "outputId": "b61a46f7-cc34-4d9c-9e9d-f80caf7622c1"
   },
   "outputs": [
    {
     "data": {
      "image/png": "[encoded data removed]",
      "text/plain": [
       "<Figure size 576x360 with 1 Axes>"
      ]
     },
     "metadata": {
      "tags": []
     },
     "output_type": "display_data"
    }
   ],
   "source": [
    "fig, ax = plt.subplots(figsize=(8, 5), constrained_layout=True)\n",
    "\n",
    "plt.scatter(data['zcmb'],mus(w))\n",
    "plt.xscale('log')\n",
    "plt.xlim(0.001,10)\n",
    "\n",
    "plt.title('Mu')\n",
    "plt.xlabel('z')\n",
    "plt.ylabel('$\\mu$')\n",
    "\n",
    "plt.grid()\n",
    "plt.show()"
   ]
  },
  {
   "cell_type": "markdown",
   "metadata": {
    "colab_type": "text",
    "id": "05PFAPaZMTUH"
   },
   "source": [
    "## Utilizando CosmoloPy\n"
   ]
  },
  {
   "cell_type": "code",
   "execution_count": 0,
   "metadata": {
    "colab": {},
    "colab_type": "code",
    "id": "H2SDWQtW9qsS"
   },
   "outputs": [],
   "source": [
    "zcmb = data['zcmb']"
   ]
  },
  {
   "cell_type": "code",
   "execution_count": 0,
   "metadata": {
    "colab": {},
    "colab_type": "code",
    "id": "_Yg0jBOJ9qsW"
   },
   "outputs": [],
   "source": [
    "def mu_teorico(w):\n",
    "    cosmo = {\"omega_M_0\":w[3],\n",
    "            \"omega_lambda_0\":1-w[3],\n",
    "            \"omega_k_0\":0.0,\n",
    "            \"h\":0.7}\n",
    "    return 5*np.log10(cod.luminosity_distance(data[\"zcmb\"], **cosmo)*1e6/10)"
   ]
  },
  {
   "cell_type": "code",
   "execution_count": 0,
   "metadata": {
    "colab": {},
    "colab_type": "code",
    "id": "mZufXxWpf-Pi"
   },
   "outputs": [],
   "source": [
    "mut = mu_teorico(w)"
   ]
  },
  {
   "cell_type": "code",
   "execution_count": 114,
   "metadata": {
    "colab": {
     "base_uri": "https://localhost:8080/",
     "height": 385
    },
    "colab_type": "code",
    "id": "9zTMo0UzrWJT",
    "outputId": "60174371-1dc3-411b-9ce1-860e4682e7a6"
   },
   "outputs": [
    {
     "data": {
      "image/png": "[encoded data removed]",
      "text/plain": [
       "<Figure size 576x360 with 1 Axes>"
      ]
     },
     "metadata": {
      "tags": []
     },
     "output_type": "display_data"
    }
   ],
   "source": [
    "fig, ax = plt.subplots(figsize=(8, 5), constrained_layout=True)\n",
    "\n",
    "plt.scatter(data['zcmb'],mt)\n",
    "plt.xscale('log')\n",
    "plt.xlim(0.001,10)\n",
    "\n",
    "plt.title('Mu teorico')\n",
    "plt.xlabel('z')\n",
    "plt.ylabel('$\\mu$')\n",
    "\n",
    "plt.grid()\n",
    "plt.show()"
   ]
  },
  {
   "cell_type": "markdown",
   "metadata": {
    "colab_type": "text",
    "id": "CdWpUuYsMjZ5"
   },
   "source": [
    "Importamos las matrices de covarianza para determinar el error asociado"
   ]
  },
  {
   "cell_type": "code",
   "execution_count": 0,
   "metadata": {
    "colab": {},
    "colab_type": "code",
    "id": "O6imPAKGnIba"
   },
   "outputs": [],
   "source": [
    "!wget -cq https://raw.githubusercontent.com/DCIDA2019/da2020-seguragg2018/master/datos/jla_v0_covmatrix.dat\n",
    "!wget -cq https://raw.githubusercontent.com/DCIDA2019/da2020-seguragg2018/master/datos/jla_v0a_covmatrix.dat\n",
    "!wget -cq https://raw.githubusercontent.com/DCIDA2019/da2020-seguragg2018/master/datos/jla_v0b_covmatrix.dat\n",
    "!wget -cq https://raw.githubusercontent.com/DCIDA2019/da2020-seguragg2018/master/datos/jla_va_covmatrix.dat\n",
    "!wget -cq https://raw.githubusercontent.com/DCIDA2019/da2020-seguragg2018/master/datos/jla_vab_covmatrix.dat\n",
    "!wget -cq https://raw.githubusercontent.com/DCIDA2019/da2020-seguragg2018/master/datos/jla_v_covmatrix.dat"
   ]
  },
  {
   "cell_type": "code",
   "execution_count": 0,
   "metadata": {
    "colab": {},
    "colab_type": "code",
    "id": "Vwse-iqFYjjz"
   },
   "outputs": [],
   "source": [
    "mav0a = pd.read_csv(\"jla_v0a_covmatrix.dat\", sep=\" \").to_numpy().reshape(740, 740)\n",
    "mav0b = pd.read_csv(\"jla_v0b_covmatrix.dat\", sep=\" \").to_numpy().reshape(740, 740)\n",
    "mav0 = pd.read_csv(\"jla_v0_covmatrix.dat\", sep=\" \").to_numpy().reshape(740, 740)\n",
    "mavab = pd.read_csv(\"jla_vab_covmatrix.dat\", sep=\" \").to_numpy().reshape(740, 740)\n",
    "mava = pd.read_csv(\"jla_va_covmatrix.dat\", sep=\" \").to_numpy().reshape(740, 740)\n",
    "mavb = pd.read_csv(\"jla_vb_covmatrix.dat\", sep=\" \").to_numpy().reshape(740, 740)"
   ]
  },
  {
   "cell_type": "code",
   "execution_count": 0,
   "metadata": {
    "colab": {},
    "colab_type": "code",
    "id": "laSPRFucnl-k"
   },
   "outputs": [],
   "source": [
    "covMa = mav0a + mav0b + mav0 + mavab + mava + mavb\n",
    "mainv = np.linalg.inv(covMa)\n",
    "error = np.zeros(740)\n",
    "for i in range(740):\n",
    "    error[i] = np.sqrt(covMa[i][i])"
   ]
  },
  {
   "cell_type": "code",
   "execution_count": 110,
   "metadata": {
    "colab": {
     "base_uri": "https://localhost:8080/",
     "height": 385
    },
    "colab_type": "code",
    "id": "fbujaBfNYa29",
    "outputId": "2fa9f1af-f7a4-499b-8cb8-1348138f6844"
   },
   "outputs": [
    {
     "data": {
      "image/png": "[encoded data removed]",
      "text/plain": [
       "<Figure size 576x360 with 1 Axes>"
      ]
     },
     "metadata": {
      "tags": []
     },
     "output_type": "display_data"
    }
   ],
   "source": [
    "fig, ax = plt.subplots(figsize=(8, 5), constrained_layout=True)\n",
    "\n",
    "#plt.scatter(data['zcmb'],mt)\n",
    "plt.errorbar(data['zcmb'], mt, yerr=error, fmt=\".\", alpha=0.7)\n",
    "plt.xscale('log')\n",
    "plt.xlim(0.001,10)\n",
    "\n",
    "plt.xlabel('z')\n",
    "plt.ylabel('$\\mu$')\n",
    "\n",
    "plt.grid()"
   ]
  },
  {
   "cell_type": "markdown",
   "metadata": {
    "colab_type": "text",
    "id": "aufl46yCMp-5"
   },
   "source": [
    "## $Chi^2$"
   ]
  },
  {
   "cell_type": "code",
   "execution_count": 111,
   "metadata": {
    "colab": {
     "base_uri": "https://localhost:8080/",
     "height": 34
    },
    "colab_type": "code",
    "id": "q0pCpsXPpjaM",
    "outputId": "7d7cd112-cec3-4c4b-caf7-c55b7282da06"
   },
   "outputs": [
    {
     "data": {
      "text/plain": [
       "8723961.543904062"
      ]
     },
     "execution_count": 111,
     "metadata": {
      "tags": []
     },
     "output_type": "execute_result"
    }
   ],
   "source": [
    "def chi(w):\n",
    "    m = mus(w)\n",
    "    mut = mu_teorico(w)\n",
    "    return abs(np.matmul(np.matmul((m-mut).T, mainv),(m-mut)))\n",
    "\n",
    "parametro = [0.1, 3, -19, 0.5]\n",
    "chi(parametro)"
   ]
  },
  {
   "cell_type": "code",
   "execution_count": 112,
   "metadata": {
    "colab": {
     "base_uri": "https://localhost:8080/",
     "height": 187
    },
    "colab_type": "code",
    "id": "LXrQdR8Spn-3",
    "outputId": "04930516-8263-406b-8010-47489101824d"
   },
   "outputs": [
    {
     "data": {
      "text/plain": [
       "      fun: 8298155.708681399\n",
       " hess_inv: <4x4 LbfgsInvHessProduct with dtype=float64>\n",
       "      jac: array([2743937.44766712,       0.        ,   -4717.70763397,\n",
       "        -13265.66562057])\n",
       "  message: b'CONVERGENCE: NORM_OF_PROJECTED_GRADIENT_<=_PGTOL'\n",
       "     nfev: 10\n",
       "      nit: 1\n",
       "   status: 0\n",
       "  success: True\n",
       "        x: array([  0. ,   2.5, -18.5,   1. ])"
      ]
     },
     "execution_count": 112,
     "metadata": {
      "tags": []
     },
     "output_type": "execute_result"
    }
   ],
   "source": [
    "minimize(chi, w, bounds = ((0, 1), (2.5, 3.5), (-19.5, -18.5), (0, 1)))"
   ]
  },
  {
   "cell_type": "code",
   "execution_count": 0,
   "metadata": {
    "colab": {},
    "colab_type": "code",
    "id": "auFFemp93dsK"
   },
   "outputs": [],
   "source": []
  }
 ],
 "metadata": {
  "colab": {
   "collapsed_sections": [],
   "name": "Supernovas.ipynb",
   "provenance": []
  },
  "kernelspec": {
   "display_name": "Python 3",
   "language": "python",
   "name": "python3"
  },
  "language_info": {
   "codemirror_mode": {
    "name": "ipython",
    "version": 3
   },
   "file_extension": ".py",
   "mimetype": "text/x-python",
   "name": "python",
   "nbconvert_exporter": "python",
   "pygments_lexer": "ipython3",
   "version": "3.8.1"
  }
 },
 "nbformat": 4,
 "nbformat_minor": 1
}
