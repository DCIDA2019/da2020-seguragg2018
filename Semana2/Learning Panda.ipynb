{
 "cells": [
  {
   "cell_type": "markdown",
   "metadata": {},
   "source": [
    "# Learning Panda"
   ]
  },
  {
   "cell_type": "code",
   "execution_count": 67,
   "metadata": {},
   "outputs": [],
   "source": [
    "import pandas as pd\n",
    "import numpy as np"
   ]
  },
  {
   "cell_type": "markdown",
   "metadata": {},
   "source": [
    "## Padas Series"
   ]
  },
  {
   "cell_type": "markdown",
   "metadata": {},
   "source": [
    "Las Series de Panda son herramientas para la manipulación de datos. Funcionan como si fueran diccionarios pero son mucho mas eficientes y especializados. A cada dato o a cada número de datos se le asigna una etiqueta, la etiqueta inicialmente es un número, por lo que funciona como si fuera un arreglo de Numpy, pero lo interesante de las Series es que puedes cambiar la etiqueta y asi tener una mejor organización en los datos. \n",
    "\n",
    "Para imprimir solamente los valores se usa el comado 'values', y para imprimir las etiquetas usamos 'index'\n",
    "\n",
    "En general, los arreglos de Pandas son mas flexibles y generales que los de Numpy. Una de las diferencias mas notorias es el 'index', se puede accesar a los datos con la etiqueta del mismo."
   ]
  },
  {
   "cell_type": "code",
   "execution_count": 68,
   "metadata": {},
   "outputs": [
    {
     "data": {
      "text/plain": [
       "a    1.0\n",
       "b    4.0\n",
       "c    1.5\n",
       "d    4.0\n",
       "e    8.0\n",
       "dtype: float64"
      ]
     },
     "execution_count": 68,
     "metadata": {},
     "output_type": "execute_result"
    }
   ],
   "source": [
    "data = pd.Series([1,4,1.5,4,8], index=['a','b','c','d','e'])\n",
    "data"
   ]
  },
  {
   "cell_type": "code",
   "execution_count": 69,
   "metadata": {},
   "outputs": [
    {
     "data": {
      "text/plain": [
       "array([1. , 4. , 1.5, 4. , 8. ])"
      ]
     },
     "execution_count": 69,
     "metadata": {},
     "output_type": "execute_result"
    }
   ],
   "source": [
    "data.values"
   ]
  },
  {
   "cell_type": "code",
   "execution_count": 70,
   "metadata": {},
   "outputs": [
    {
     "data": {
      "text/plain": [
       "1.0"
      ]
     },
     "execution_count": 70,
     "metadata": {},
     "output_type": "execute_result"
    }
   ],
   "source": [
    "data['a']"
   ]
  },
  {
   "cell_type": "code",
   "execution_count": 71,
   "metadata": {},
   "outputs": [
    {
     "data": {
      "text/plain": [
       "Index(['a', 'b', 'c', 'd', 'e'], dtype='object')"
      ]
     },
     "execution_count": 71,
     "metadata": {},
     "output_type": "execute_result"
    }
   ],
   "source": [
    "data.index"
   ]
  },
  {
   "cell_type": "markdown",
   "metadata": {},
   "source": [
    "## Pandas DataFrame"
   ]
  },
  {
   "cell_type": "markdown",
   "metadata": {},
   "source": [
    "Los DataFrames, son estructuras de datos de la libreria Pandas. Funcionan como si fuera un diccionario especializado, ya que si Series era la analogía de Panda para los arreglos de Numpy de una dimensión, DataFrame es para los arrelgos de Numpy de dos dimensiones. Para hacerlo utilizaremos dos series, ya que estas se pueden construir a partir de un diccionario. Cabe aclarar que las etiquetas de las Series tienen que ser las mismas para el DataFrame funcione de la manera en la que se desea."
   ]
  },
  {
   "cell_type": "code",
   "execution_count": 72,
   "metadata": {},
   "outputs": [
    {
     "data": {
      "text/plain": [
       "Guanajuato        38332521\n",
       "Querétaro         26448193\n",
       "Michoacán         19651127\n",
       "Aguascalientes    19552860\n",
       "Jalisco           12882135\n",
       "dtype: int64"
      ]
     },
     "execution_count": 72,
     "metadata": {},
     "output_type": "execute_result"
    }
   ],
   "source": [
    "poblacion_dicc = {'Guanajuato': 38332521,\n",
    "                   'Querétaro': 26448193,\n",
    "                   'Michoacán': 19651127,\n",
    "                   'Aguascalientes': 19552860,\n",
    "                   'Jalisco': 12882135}\n",
    "poblacion = pd.Series(poblacion_dicc)\n",
    "poblacion"
   ]
  },
  {
   "cell_type": "code",
   "execution_count": 73,
   "metadata": {},
   "outputs": [
    {
     "data": {
      "text/plain": [
       "Guanajuato        423967\n",
       "Querétaro         695662\n",
       "Michoacán         141297\n",
       "Aguascalientes    170312\n",
       "Jalisco           149995\n",
       "dtype: int64"
      ]
     },
     "execution_count": 73,
     "metadata": {},
     "output_type": "execute_result"
    }
   ],
   "source": [
    "area_dicc = {'Guanajuato': 423967, 'Querétaro': 695662, 'Michoacán': 141297,\n",
    "             'Aguascalientes': 170312, 'Jalisco': 149995}\n",
    "area = pd.Series(area_dicc)\n",
    "area"
   ]
  },
  {
   "cell_type": "code",
   "execution_count": 74,
   "metadata": {},
   "outputs": [
    {
     "data": {
      "text/html": [
       "<div>\n",
       "<style scoped>\n",
       "    .dataframe tbody tr th:only-of-type {\n",
       "        vertical-align: middle;\n",
       "    }\n",
       "\n",
       "    .dataframe tbody tr th {\n",
       "        vertical-align: top;\n",
       "    }\n",
       "\n",
       "    .dataframe thead th {\n",
       "        text-align: right;\n",
       "    }\n",
       "</style>\n",
       "<table border=\"1\" class=\"dataframe\">\n",
       "  <thead>\n",
       "    <tr style=\"text-align: right;\">\n",
       "      <th></th>\n",
       "      <th>poblacion</th>\n",
       "      <th>area</th>\n",
       "    </tr>\n",
       "  </thead>\n",
       "  <tbody>\n",
       "    <tr>\n",
       "      <td>Guanajuato</td>\n",
       "      <td>38332521</td>\n",
       "      <td>423967</td>\n",
       "    </tr>\n",
       "    <tr>\n",
       "      <td>Querétaro</td>\n",
       "      <td>26448193</td>\n",
       "      <td>695662</td>\n",
       "    </tr>\n",
       "    <tr>\n",
       "      <td>Michoacán</td>\n",
       "      <td>19651127</td>\n",
       "      <td>141297</td>\n",
       "    </tr>\n",
       "    <tr>\n",
       "      <td>Aguascalientes</td>\n",
       "      <td>19552860</td>\n",
       "      <td>170312</td>\n",
       "    </tr>\n",
       "    <tr>\n",
       "      <td>Jalisco</td>\n",
       "      <td>12882135</td>\n",
       "      <td>149995</td>\n",
       "    </tr>\n",
       "  </tbody>\n",
       "</table>\n",
       "</div>"
      ],
      "text/plain": [
       "                poblacion    area\n",
       "Guanajuato       38332521  423967\n",
       "Querétaro        26448193  695662\n",
       "Michoacán        19651127  141297\n",
       "Aguascalientes   19552860  170312\n",
       "Jalisco          12882135  149995"
      ]
     },
     "execution_count": 74,
     "metadata": {},
     "output_type": "execute_result"
    }
   ],
   "source": [
    "estados = pd.DataFrame({'poblacion':poblacion, 'area':area})\n",
    "estados"
   ]
  },
  {
   "cell_type": "markdown",
   "metadata": {},
   "source": [
    "Se puede acceder al 'index' del DataFrame, y también a las columnas del mismo."
   ]
  },
  {
   "cell_type": "code",
   "execution_count": 75,
   "metadata": {},
   "outputs": [
    {
     "data": {
      "text/plain": [
       "Index(['Guanajuato', 'Querétaro', 'Michoacán', 'Aguascalientes', 'Jalisco'], dtype='object')"
      ]
     },
     "execution_count": 75,
     "metadata": {},
     "output_type": "execute_result"
    }
   ],
   "source": [
    "estados.index"
   ]
  },
  {
   "cell_type": "code",
   "execution_count": 76,
   "metadata": {},
   "outputs": [
    {
     "data": {
      "text/plain": [
       "array([[38332521,   423967],\n",
       "       [26448193,   695662],\n",
       "       [19651127,   141297],\n",
       "       [19552860,   170312],\n",
       "       [12882135,   149995]], dtype=int64)"
      ]
     },
     "execution_count": 76,
     "metadata": {},
     "output_type": "execute_result"
    }
   ],
   "source": [
    "estados.values"
   ]
  },
  {
   "cell_type": "code",
   "execution_count": 77,
   "metadata": {},
   "outputs": [
    {
     "data": {
      "text/plain": [
       "Index(['poblacion', 'area'], dtype='object')"
      ]
     },
     "execution_count": 77,
     "metadata": {},
     "output_type": "execute_result"
    }
   ],
   "source": [
    "estados.columns"
   ]
  },
  {
   "cell_type": "code",
   "execution_count": 88,
   "metadata": {},
   "outputs": [
    {
     "data": {
      "text/html": [
       "<div>\n",
       "<style scoped>\n",
       "    .dataframe tbody tr th:only-of-type {\n",
       "        vertical-align: middle;\n",
       "    }\n",
       "\n",
       "    .dataframe tbody tr th {\n",
       "        vertical-align: top;\n",
       "    }\n",
       "\n",
       "    .dataframe thead th {\n",
       "        text-align: right;\n",
       "    }\n",
       "</style>\n",
       "<table border=\"1\" class=\"dataframe\">\n",
       "  <thead>\n",
       "    <tr style=\"text-align: right;\">\n",
       "      <th></th>\n",
       "      <th>Unnamed: 0</th>\n",
       "      <th>Lat</th>\n",
       "      <th>Clave</th>\n",
       "      <th>Edo</th>\n",
       "      <th>Est</th>\n",
       "      <th>Tmax</th>\n",
       "    </tr>\n",
       "  </thead>\n",
       "  <tbody>\n",
       "    <tr>\n",
       "      <td>0</td>\n",
       "      <td>-99.75</td>\n",
       "      <td>16.76</td>\n",
       "      <td>76805</td>\n",
       "      <td>GRO</td>\n",
       "      <td>ACAPULCO</td>\n",
       "      <td>33.277419</td>\n",
       "    </tr>\n",
       "    <tr>\n",
       "      <td>1</td>\n",
       "      <td>-102.29</td>\n",
       "      <td>21.85</td>\n",
       "      <td>76571</td>\n",
       "      <td>AGS</td>\n",
       "      <td>AGUASCALIENTES</td>\n",
       "      <td>22.941935</td>\n",
       "    </tr>\n",
       "    <tr>\n",
       "      <td>2</td>\n",
       "      <td>-111.83</td>\n",
       "      <td>30.71</td>\n",
       "      <td>76113</td>\n",
       "      <td>SON</td>\n",
       "      <td>ALTAR</td>\n",
       "      <td>20.868966</td>\n",
       "    </tr>\n",
       "    <tr>\n",
       "      <td>3</td>\n",
       "      <td>-93.90</td>\n",
       "      <td>16.24</td>\n",
       "      <td>76840</td>\n",
       "      <td>CHIS</td>\n",
       "      <td>ARRIAGA</td>\n",
       "      <td>34.464516</td>\n",
       "    </tr>\n",
       "    <tr>\n",
       "      <td>4</td>\n",
       "      <td>-90.50</td>\n",
       "      <td>19.83</td>\n",
       "      <td>76695</td>\n",
       "      <td>CAMP</td>\n",
       "      <td>CAMPECHE</td>\n",
       "      <td>29.400000</td>\n",
       "    </tr>\n",
       "    <tr>\n",
       "      <td>...</td>\n",
       "      <td>...</td>\n",
       "      <td>...</td>\n",
       "      <td>...</td>\n",
       "      <td>...</td>\n",
       "      <td>...</td>\n",
       "      <td>...</td>\n",
       "    </tr>\n",
       "    <tr>\n",
       "      <td>717</td>\n",
       "      <td>-99.80</td>\n",
       "      <td>19.33</td>\n",
       "      <td>TBRMX</td>\n",
       "      <td>MEX</td>\n",
       "      <td>Tres Barrancas Méx.</td>\n",
       "      <td>19.673077</td>\n",
       "    </tr>\n",
       "    <tr>\n",
       "      <td>718</td>\n",
       "      <td>-98.90</td>\n",
       "      <td>19.44</td>\n",
       "      <td>TJCMX</td>\n",
       "      <td>MEX</td>\n",
       "      <td>El Tejocote Méx.</td>\n",
       "      <td>21.461538</td>\n",
       "    </tr>\n",
       "    <tr>\n",
       "      <td>719</td>\n",
       "      <td>-99.74</td>\n",
       "      <td>19.59</td>\n",
       "      <td>SLBMX</td>\n",
       "      <td>MEX</td>\n",
       "      <td>San Bartolo del Llano Méx.</td>\n",
       "      <td>19.865385</td>\n",
       "    </tr>\n",
       "    <tr>\n",
       "      <td>720</td>\n",
       "      <td>-95.45</td>\n",
       "      <td>18.23</td>\n",
       "      <td>LCEVC</td>\n",
       "      <td>VER</td>\n",
       "      <td>La Ceibilla Ver.</td>\n",
       "      <td>28.700000</td>\n",
       "    </tr>\n",
       "    <tr>\n",
       "      <td>721</td>\n",
       "      <td>-87.47</td>\n",
       "      <td>20.13</td>\n",
       "      <td>SIAQR</td>\n",
       "      <td>QROO</td>\n",
       "      <td>Sian Kaan 2 Q. Roo. SMN*,,\\r\\n-87.47,20.13,10/...</td>\n",
       "      <td>31.258333</td>\n",
       "    </tr>\n",
       "  </tbody>\n",
       "</table>\n",
       "<p>722 rows × 6 columns</p>\n",
       "</div>"
      ],
      "text/plain": [
       "     Unnamed: 0    Lat  Clave   Edo  \\\n",
       "0        -99.75  16.76  76805   GRO   \n",
       "1       -102.29  21.85  76571   AGS   \n",
       "2       -111.83  30.71  76113   SON   \n",
       "3        -93.90  16.24  76840  CHIS   \n",
       "4        -90.50  19.83  76695  CAMP   \n",
       "..          ...    ...    ...   ...   \n",
       "717      -99.80  19.33  TBRMX   MEX   \n",
       "718      -98.90  19.44  TJCMX   MEX   \n",
       "719      -99.74  19.59  SLBMX   MEX   \n",
       "720      -95.45  18.23  LCEVC   VER   \n",
       "721      -87.47  20.13  SIAQR  QROO   \n",
       "\n",
       "                                                   Est       Tmax  \n",
       "0                                             ACAPULCO  33.277419  \n",
       "1                                       AGUASCALIENTES  22.941935  \n",
       "2                                                ALTAR  20.868966  \n",
       "3                                              ARRIAGA  34.464516  \n",
       "4                                             CAMPECHE  29.400000  \n",
       "..                                                 ...        ...  \n",
       "717                                Tres Barrancas Méx.  19.673077  \n",
       "718                                   El Tejocote Méx.  21.461538  \n",
       "719                         San Bartolo del Llano Méx.  19.865385  \n",
       "720                                   La Ceibilla Ver.  28.700000  \n",
       "721  Sian Kaan 2 Q. Roo. SMN*,,\\r\\n-87.47,20.13,10/...  31.258333  \n",
       "\n",
       "[722 rows x 6 columns]"
      ]
     },
     "execution_count": 88,
     "metadata": {},
     "output_type": "execute_result"
    }
   ],
   "source": [
    "pd.read_csv('T_Max.csv', encoding='latin-1')"
   ]
  },
  {
   "cell_type": "code",
   "execution_count": null,
   "metadata": {},
   "outputs": [],
   "source": []
  }
 ],
 "metadata": {
  "kernelspec": {
   "display_name": "Python 3",
   "language": "python",
   "name": "python3"
  },
  "language_info": {
   "codemirror_mode": {
    "name": "ipython",
    "version": 3
   },
   "file_extension": ".py",
   "mimetype": "text/x-python",
   "name": "python",
   "nbconvert_exporter": "python",
   "pygments_lexer": "ipython3",
   "version": "3.7.4"
  }
 },
 "nbformat": 4,
 "nbformat_minor": 2
}
