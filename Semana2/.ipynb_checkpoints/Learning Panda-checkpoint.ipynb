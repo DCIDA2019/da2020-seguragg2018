{
 "cells": [
  {
   "cell_type": "markdown",
   "metadata": {},
   "source": [
    "# Learning Panda"
   ]
  },
  {
   "cell_type": "code",
   "execution_count": 1,
   "metadata": {},
   "outputs": [],
   "source": [
    "import pandas as pd\n",
    "import numpy as np"
   ]
  },
  {
   "cell_type": "markdown",
   "metadata": {},
   "source": [
    "## Padas Series"
   ]
  },
  {
   "cell_type": "markdown",
   "metadata": {},
   "source": [
    "Las Series de Panda son herramientas para la manipulación de datos. Funcionan como si fueran diccionarios pero son mucho mas eficientes y especializados. A cada dato o a cada número de datos se le asigna una etiqueta, la etiqueta inicialmente es un número, por lo que funciona como si fuera un arreglo de Numpy, pero lo interesante de las Series es que puedes cambiar la etiqueta y asi tener una mejor organización en los datos. \n",
    "\n",
    "Para imprimir solamente los valores se usa el comado 'values', y para imprimir las etiquetas usamos 'index'\n",
    "\n",
    "En general, los arreglos de Pandas son mas flexibles y generales que los de Numpy. Una de las diferencias mas notorias es el 'index', se puede accesar a los datos con la etiqueta del mismo."
   ]
  },
  {
   "cell_type": "code",
   "execution_count": 2,
   "metadata": {},
   "outputs": [
    {
     "data": {
      "text/plain": [
       "a    1.0\n",
       "b    4.0\n",
       "c    1.5\n",
       "d    4.0\n",
       "e    8.0\n",
       "dtype: float64"
      ]
     },
     "execution_count": 2,
     "metadata": {},
     "output_type": "execute_result"
    }
   ],
   "source": [
    "data = pd.Series([1,4,1.5,4,8], index=['a','b','c','d','e'])\n",
    "data"
   ]
  },
  {
   "cell_type": "code",
   "execution_count": 3,
   "metadata": {},
   "outputs": [
    {
     "data": {
      "text/plain": [
       "array([1. , 4. , 1.5, 4. , 8. ])"
      ]
     },
     "execution_count": 3,
     "metadata": {},
     "output_type": "execute_result"
    }
   ],
   "source": [
    "data.values"
   ]
  },
  {
   "cell_type": "code",
   "execution_count": 4,
   "metadata": {},
   "outputs": [
    {
     "data": {
      "text/plain": [
       "1.0"
      ]
     },
     "execution_count": 4,
     "metadata": {},
     "output_type": "execute_result"
    }
   ],
   "source": [
    "data['a']"
   ]
  },
  {
   "cell_type": "code",
   "execution_count": 5,
   "metadata": {},
   "outputs": [
    {
     "data": {
      "text/plain": [
       "Index(['a', 'b', 'c', 'd', 'e'], dtype='object')"
      ]
     },
     "execution_count": 5,
     "metadata": {},
     "output_type": "execute_result"
    }
   ],
   "source": [
    "data.index"
   ]
  },
  {
   "cell_type": "markdown",
   "metadata": {},
   "source": [
    "## Pandas DataFrame"
   ]
  },
  {
   "cell_type": "markdown",
   "metadata": {},
   "source": [
    "Los DataFrames, son estructuras de datos de la libreria Pandas. Funcionan como si fuera un diccionario especializado, ya que si Series era la analogía de Panda para los arreglos de Numpy de una dimensión, DataFrame es para los arrelgos de Numpy de dos dimensiones. Para hacerlo utilizaremos dos series, ya que estas se pueden construir a partir de un diccionario. Cabe aclarar que las etiquetas de las Series tienen que ser las mismas para el DataFrame funcione de la manera en la que se desea."
   ]
  },
  {
   "cell_type": "code",
   "execution_count": 6,
   "metadata": {},
   "outputs": [
    {
     "data": {
      "text/plain": [
       "Guanajuato        38332521\n",
       "Querétaro         26448193\n",
       "Michoacán         19651127\n",
       "Aguascalientes    19552860\n",
       "Jalisco           12882135\n",
       "dtype: int64"
      ]
     },
     "execution_count": 6,
     "metadata": {},
     "output_type": "execute_result"
    }
   ],
   "source": [
    "poblacion_dicc = {'Guanajuato': 38332521,\n",
    "                   'Querétaro': 26448193,\n",
    "                   'Michoacán': 19651127,\n",
    "                   'Aguascalientes': 19552860,\n",
    "                   'Jalisco': 12882135}\n",
    "poblacion = pd.Series(poblacion_dicc)\n",
    "poblacion"
   ]
  },
  {
   "cell_type": "code",
   "execution_count": 7,
   "metadata": {},
   "outputs": [
    {
     "data": {
      "text/plain": [
       "Guanajuato        423967\n",
       "Querétaro         695662\n",
       "Michoacán         141297\n",
       "Aguascalientes    170312\n",
       "Jalisco           149995\n",
       "dtype: int64"
      ]
     },
     "execution_count": 7,
     "metadata": {},
     "output_type": "execute_result"
    }
   ],
   "source": [
    "area_dicc = {'Guanajuato': 423967, 'Querétaro': 695662, 'Michoacán': 141297,\n",
    "             'Aguascalientes': 170312, 'Jalisco': 149995}\n",
    "area = pd.Series(area_dicc)\n",
    "area"
   ]
  },
  {
   "cell_type": "code",
   "execution_count": 8,
   "metadata": {},
   "outputs": [
    {
     "data": {
      "text/html": [
       "<div>\n",
       "<style scoped>\n",
       "    .dataframe tbody tr th:only-of-type {\n",
       "        vertical-align: middle;\n",
       "    }\n",
       "\n",
       "    .dataframe tbody tr th {\n",
       "        vertical-align: top;\n",
       "    }\n",
       "\n",
       "    .dataframe thead th {\n",
       "        text-align: right;\n",
       "    }\n",
       "</style>\n",
       "<table border=\"1\" class=\"dataframe\">\n",
       "  <thead>\n",
       "    <tr style=\"text-align: right;\">\n",
       "      <th></th>\n",
       "      <th>poblacion</th>\n",
       "      <th>area</th>\n",
       "    </tr>\n",
       "  </thead>\n",
       "  <tbody>\n",
       "    <tr>\n",
       "      <td>Guanajuato</td>\n",
       "      <td>38332521</td>\n",
       "      <td>423967</td>\n",
       "    </tr>\n",
       "    <tr>\n",
       "      <td>Querétaro</td>\n",
       "      <td>26448193</td>\n",
       "      <td>695662</td>\n",
       "    </tr>\n",
       "    <tr>\n",
       "      <td>Michoacán</td>\n",
       "      <td>19651127</td>\n",
       "      <td>141297</td>\n",
       "    </tr>\n",
       "    <tr>\n",
       "      <td>Aguascalientes</td>\n",
       "      <td>19552860</td>\n",
       "      <td>170312</td>\n",
       "    </tr>\n",
       "    <tr>\n",
       "      <td>Jalisco</td>\n",
       "      <td>12882135</td>\n",
       "      <td>149995</td>\n",
       "    </tr>\n",
       "  </tbody>\n",
       "</table>\n",
       "</div>"
      ],
      "text/plain": [
       "                poblacion    area\n",
       "Guanajuato       38332521  423967\n",
       "Querétaro        26448193  695662\n",
       "Michoacán        19651127  141297\n",
       "Aguascalientes   19552860  170312\n",
       "Jalisco          12882135  149995"
      ]
     },
     "execution_count": 8,
     "metadata": {},
     "output_type": "execute_result"
    }
   ],
   "source": [
    "estados = pd.DataFrame({'poblacion':poblacion, 'area':area})\n",
    "estados"
   ]
  },
  {
   "cell_type": "markdown",
   "metadata": {},
   "source": [
    "Se puede acceder al 'index' del DataFrame, y también a las columnas del mismo."
   ]
  },
  {
   "cell_type": "code",
   "execution_count": 9,
   "metadata": {},
   "outputs": [
    {
     "data": {
      "text/plain": [
       "Index(['Guanajuato', 'Querétaro', 'Michoacán', 'Aguascalientes', 'Jalisco'], dtype='object')"
      ]
     },
     "execution_count": 9,
     "metadata": {},
     "output_type": "execute_result"
    }
   ],
   "source": [
    "estados.index"
   ]
  },
  {
   "cell_type": "code",
   "execution_count": 10,
   "metadata": {},
   "outputs": [
    {
     "data": {
      "text/plain": [
       "array([[38332521,   423967],\n",
       "       [26448193,   695662],\n",
       "       [19651127,   141297],\n",
       "       [19552860,   170312],\n",
       "       [12882135,   149995]], dtype=int64)"
      ]
     },
     "execution_count": 10,
     "metadata": {},
     "output_type": "execute_result"
    }
   ],
   "source": [
    "estados.values"
   ]
  },
  {
   "cell_type": "code",
   "execution_count": 11,
   "metadata": {},
   "outputs": [
    {
     "data": {
      "text/plain": [
       "12882135"
      ]
     },
     "execution_count": 11,
     "metadata": {},
     "output_type": "execute_result"
    }
   ],
   "source": [
    "estados.values[4][0]"
   ]
  },
  {
   "cell_type": "code",
   "execution_count": 12,
   "metadata": {},
   "outputs": [
    {
     "data": {
      "text/plain": [
       "Index(['poblacion', 'area'], dtype='object')"
      ]
     },
     "execution_count": 12,
     "metadata": {},
     "output_type": "execute_result"
    }
   ],
   "source": [
    "estados.columns"
   ]
  },
  {
   "cell_type": "code",
   "execution_count": 28,
   "metadata": {},
   "outputs": [
    {
     "data": {
      "text/plain": [
       "Guanajuato        423967\n",
       "Querétaro         695662\n",
       "Michoacán         141297\n",
       "Aguascalientes    170312\n",
       "Jalisco           149995\n",
       "Name: area, dtype: int64"
      ]
     },
     "execution_count": 28,
     "metadata": {},
     "output_type": "execute_result"
    }
   ],
   "source": [
    "estados[\"area\"]"
   ]
  },
  {
   "cell_type": "markdown",
   "metadata": {},
   "source": [
    "## Pandas index"
   ]
  },
  {
   "cell_type": "markdown",
   "metadata": {},
   "source": [
    "La libreria pandas tambien cuenta con estructuras llamadas 'index', que en pocas palabras son como arreglos \"inmutables\". Este tipo de estructuras de datos se comportan de una manera muy parecida a los arreglos normales, cambian cuando se quiere modificarlos, hay un 'TypeError'."
   ]
  },
  {
   "cell_type": "code",
   "execution_count": 13,
   "metadata": {},
   "outputs": [],
   "source": [
    "i = pd.Index([1, 2, 3, 4, 5])"
   ]
  },
  {
   "cell_type": "code",
   "execution_count": 14,
   "metadata": {},
   "outputs": [
    {
     "ename": "TypeError",
     "evalue": "Index does not support mutable operations",
     "output_type": "error",
     "traceback": [
      "\u001b[1;31m---------------------------------------------------------------------------\u001b[0m",
      "\u001b[1;31mTypeError\u001b[0m                                 Traceback (most recent call last)",
      "\u001b[1;32m<ipython-input-14-aa382424fd74>\u001b[0m in \u001b[0;36m<module>\u001b[1;34m\u001b[0m\n\u001b[1;32m----> 1\u001b[1;33m \u001b[0mi\u001b[0m\u001b[1;33m[\u001b[0m\u001b[1;36m0\u001b[0m\u001b[1;33m]\u001b[0m \u001b[1;33m=\u001b[0m \u001b[1;36m4\u001b[0m\u001b[1;33m\u001b[0m\u001b[1;33m\u001b[0m\u001b[0m\n\u001b[0m",
      "\u001b[1;32m~\\Anaconda3\\lib\\site-packages\\pandas\\core\\indexes\\base.py\u001b[0m in \u001b[0;36m__setitem__\u001b[1;34m(self, key, value)\u001b[0m\n\u001b[0;32m   4258\u001b[0m \u001b[1;33m\u001b[0m\u001b[0m\n\u001b[0;32m   4259\u001b[0m     \u001b[1;32mdef\u001b[0m \u001b[0m__setitem__\u001b[0m\u001b[1;33m(\u001b[0m\u001b[0mself\u001b[0m\u001b[1;33m,\u001b[0m \u001b[0mkey\u001b[0m\u001b[1;33m,\u001b[0m \u001b[0mvalue\u001b[0m\u001b[1;33m)\u001b[0m\u001b[1;33m:\u001b[0m\u001b[1;33m\u001b[0m\u001b[1;33m\u001b[0m\u001b[0m\n\u001b[1;32m-> 4260\u001b[1;33m         \u001b[1;32mraise\u001b[0m \u001b[0mTypeError\u001b[0m\u001b[1;33m(\u001b[0m\u001b[1;34m\"Index does not support mutable operations\"\u001b[0m\u001b[1;33m)\u001b[0m\u001b[1;33m\u001b[0m\u001b[1;33m\u001b[0m\u001b[0m\n\u001b[0m\u001b[0;32m   4261\u001b[0m \u001b[1;33m\u001b[0m\u001b[0m\n\u001b[0;32m   4262\u001b[0m     \u001b[1;32mdef\u001b[0m \u001b[0m__getitem__\u001b[0m\u001b[1;33m(\u001b[0m\u001b[0mself\u001b[0m\u001b[1;33m,\u001b[0m \u001b[0mkey\u001b[0m\u001b[1;33m)\u001b[0m\u001b[1;33m:\u001b[0m\u001b[1;33m\u001b[0m\u001b[1;33m\u001b[0m\u001b[0m\n",
      "\u001b[1;31mTypeError\u001b[0m: Index does not support mutable operations"
     ]
    }
   ],
   "source": [
    "i[0] = 4"
   ]
  },
  {
   "cell_type": "markdown",
   "metadata": {},
   "source": [
    "Este tipo de estructura es muy conveninte si se quiere hacer operaciones con conjuntos"
   ]
  },
  {
   "cell_type": "code",
   "execution_count": 15,
   "metadata": {},
   "outputs": [],
   "source": [
    "j = pd.Index([4,5,6,7,8])"
   ]
  },
  {
   "cell_type": "code",
   "execution_count": 16,
   "metadata": {},
   "outputs": [
    {
     "data": {
      "text/plain": [
       "array([38332521,   423967], dtype=int64)"
      ]
     },
     "execution_count": 16,
     "metadata": {},
     "output_type": "execute_result"
    }
   ],
   "source": [
    "estados.values[0]"
   ]
  },
  {
   "cell_type": "markdown",
   "metadata": {},
   "source": [
    "Uno de los propósitos de aprender la manipulación de la libreria pandas es aprender a manejar grandes cantidades de datos; dichos datos se pueden encontrar en una base de datos y es muy útil aprender a importar todos los datos de un archivo externo hacia un dataFrame de pandas, lo siguiente se puede lograr de la siguiente manera"
   ]
  },
  {
   "cell_type": "code",
   "execution_count": 18,
   "metadata": {},
   "outputs": [
    {
     "data": {
      "text/html": [
       "<div>\n",
       "<style scoped>\n",
       "    .dataframe tbody tr th:only-of-type {\n",
       "        vertical-align: middle;\n",
       "    }\n",
       "\n",
       "    .dataframe tbody tr th {\n",
       "        vertical-align: top;\n",
       "    }\n",
       "\n",
       "    .dataframe thead th {\n",
       "        text-align: right;\n",
       "    }\n",
       "</style>\n",
       "<table border=\"1\" class=\"dataframe\">\n",
       "  <thead>\n",
       "    <tr style=\"text-align: right;\">\n",
       "      <th></th>\n",
       "      <th>Lon</th>\n",
       "      <th>Lat</th>\n",
       "      <th>Clave</th>\n",
       "      <th>Edo</th>\n",
       "      <th>Est</th>\n",
       "      <th>Tmax</th>\n",
       "    </tr>\n",
       "  </thead>\n",
       "  <tbody>\n",
       "    <tr>\n",
       "      <td>0</td>\n",
       "      <td>-99.75</td>\n",
       "      <td>16.76</td>\n",
       "      <td>76805</td>\n",
       "      <td>GRO</td>\n",
       "      <td>ACAPULCO</td>\n",
       "      <td>33.277419</td>\n",
       "    </tr>\n",
       "    <tr>\n",
       "      <td>1</td>\n",
       "      <td>-102.29</td>\n",
       "      <td>21.85</td>\n",
       "      <td>76571</td>\n",
       "      <td>AGS</td>\n",
       "      <td>AGUASCALIENTES</td>\n",
       "      <td>22.941935</td>\n",
       "    </tr>\n",
       "    <tr>\n",
       "      <td>2</td>\n",
       "      <td>-111.83</td>\n",
       "      <td>30.71</td>\n",
       "      <td>76113</td>\n",
       "      <td>SON</td>\n",
       "      <td>ALTAR</td>\n",
       "      <td>20.868966</td>\n",
       "    </tr>\n",
       "    <tr>\n",
       "      <td>3</td>\n",
       "      <td>-93.90</td>\n",
       "      <td>16.24</td>\n",
       "      <td>76840</td>\n",
       "      <td>CHIS</td>\n",
       "      <td>ARRIAGA</td>\n",
       "      <td>34.464516</td>\n",
       "    </tr>\n",
       "    <tr>\n",
       "      <td>4</td>\n",
       "      <td>-90.50</td>\n",
       "      <td>19.83</td>\n",
       "      <td>76695</td>\n",
       "      <td>CAMP</td>\n",
       "      <td>CAMPECHE</td>\n",
       "      <td>29.400000</td>\n",
       "    </tr>\n",
       "    <tr>\n",
       "      <td>...</td>\n",
       "      <td>...</td>\n",
       "      <td>...</td>\n",
       "      <td>...</td>\n",
       "      <td>...</td>\n",
       "      <td>...</td>\n",
       "      <td>...</td>\n",
       "    </tr>\n",
       "    <tr>\n",
       "      <td>717</td>\n",
       "      <td>-99.80</td>\n",
       "      <td>19.33</td>\n",
       "      <td>TBRMX</td>\n",
       "      <td>MEX</td>\n",
       "      <td>Tres Barrancas Méx.</td>\n",
       "      <td>19.673077</td>\n",
       "    </tr>\n",
       "    <tr>\n",
       "      <td>718</td>\n",
       "      <td>-98.90</td>\n",
       "      <td>19.44</td>\n",
       "      <td>TJCMX</td>\n",
       "      <td>MEX</td>\n",
       "      <td>El Tejocote Méx.</td>\n",
       "      <td>21.461538</td>\n",
       "    </tr>\n",
       "    <tr>\n",
       "      <td>719</td>\n",
       "      <td>-99.74</td>\n",
       "      <td>19.59</td>\n",
       "      <td>SLBMX</td>\n",
       "      <td>MEX</td>\n",
       "      <td>San Bartolo del Llano Méx.</td>\n",
       "      <td>19.865385</td>\n",
       "    </tr>\n",
       "    <tr>\n",
       "      <td>720</td>\n",
       "      <td>-95.45</td>\n",
       "      <td>18.23</td>\n",
       "      <td>LCEVC</td>\n",
       "      <td>VER</td>\n",
       "      <td>La Ceibilla Ver.</td>\n",
       "      <td>28.700000</td>\n",
       "    </tr>\n",
       "    <tr>\n",
       "      <td>721</td>\n",
       "      <td>-87.47</td>\n",
       "      <td>20.13</td>\n",
       "      <td>SIAQR</td>\n",
       "      <td>QROO</td>\n",
       "      <td>Sian Kaan 2 Q. Roo. SMN*,,\\r\\n-87.47,20.13,10/...</td>\n",
       "      <td>31.258333</td>\n",
       "    </tr>\n",
       "  </tbody>\n",
       "</table>\n",
       "<p>722 rows × 6 columns</p>\n",
       "</div>"
      ],
      "text/plain": [
       "        Lon    Lat  Clave   Edo  \\\n",
       "0    -99.75  16.76  76805   GRO   \n",
       "1   -102.29  21.85  76571   AGS   \n",
       "2   -111.83  30.71  76113   SON   \n",
       "3    -93.90  16.24  76840  CHIS   \n",
       "4    -90.50  19.83  76695  CAMP   \n",
       "..      ...    ...    ...   ...   \n",
       "717  -99.80  19.33  TBRMX   MEX   \n",
       "718  -98.90  19.44  TJCMX   MEX   \n",
       "719  -99.74  19.59  SLBMX   MEX   \n",
       "720  -95.45  18.23  LCEVC   VER   \n",
       "721  -87.47  20.13  SIAQR  QROO   \n",
       "\n",
       "                                                   Est       Tmax  \n",
       "0                                             ACAPULCO  33.277419  \n",
       "1                                       AGUASCALIENTES  22.941935  \n",
       "2                                                ALTAR  20.868966  \n",
       "3                                              ARRIAGA  34.464516  \n",
       "4                                             CAMPECHE  29.400000  \n",
       "..                                                 ...        ...  \n",
       "717                                Tres Barrancas Méx.  19.673077  \n",
       "718                                   El Tejocote Méx.  21.461538  \n",
       "719                         San Bartolo del Llano Méx.  19.865385  \n",
       "720                                   La Ceibilla Ver.  28.700000  \n",
       "721  Sian Kaan 2 Q. Roo. SMN*,,\\r\\n-87.47,20.13,10/...  31.258333  \n",
       "\n",
       "[722 rows x 6 columns]"
      ]
     },
     "execution_count": 18,
     "metadata": {},
     "output_type": "execute_result"
    }
   ],
   "source": [
    "pd.read_csv('T_Max.csv', encoding='latin-1')"
   ]
  },
  {
   "cell_type": "markdown",
   "metadata": {},
   "source": [
    "## Operando los datos con pandas"
   ]
  },
  {
   "cell_type": "markdown",
   "metadata": {},
   "source": [
    "Podemos trabajar los datos de los objetos de pandas, como las series o los DataFrames, con operaciones tal y como lo hariamos con los arreglos de numpy. Para operaciones binarias, es particularmente útil el uso de pandas ya que 'alinea' los indices de los objetos de pandas."
   ]
  },
  {
   "cell_type": "code",
   "execution_count": 25,
   "metadata": {},
   "outputs": [
    {
     "name": "stdout",
     "output_type": "stream",
     "text": [
      "Guanajuato        0.346071\n",
      "Querétaro         0.285147\n",
      "Michoacán         0.665984\n",
      "Aguascalientes   -0.020935\n",
      "Jalisco           0.334661\n",
      "dtype: float64\n",
      "                poblacion      area\n",
      "Guanajuato       0.319016 -0.938208\n",
      "Querétaro       -0.578606  0.958484\n",
      "Michoacán        0.999992  0.745966\n",
      "Aguascalientes  -0.429095  0.999781\n",
      "Jalisco         -0.972848 -0.942339\n"
     ]
    }
   ],
   "source": [
    "print(np.sin(area))\n",
    "print(np.cos(estados))"
   ]
  },
  {
   "cell_type": "code",
   "execution_count": 26,
   "metadata": {},
   "outputs": [
    {
     "data": {
      "text/plain": [
       "Guanajuato        38756488\n",
       "Querétaro         27143855\n",
       "Michoacán         19792424\n",
       "Aguascalientes    19723172\n",
       "Jalisco           13032130\n",
       "dtype: int64"
      ]
     },
     "execution_count": 26,
     "metadata": {},
     "output_type": "execute_result"
    }
   ],
   "source": [
    "area + poblacion"
   ]
  },
  {
   "cell_type": "code",
   "execution_count": 29,
   "metadata": {},
   "outputs": [
    {
     "data": {
      "text/html": [
       "<div>\n",
       "<style scoped>\n",
       "    .dataframe tbody tr th:only-of-type {\n",
       "        vertical-align: middle;\n",
       "    }\n",
       "\n",
       "    .dataframe tbody tr th {\n",
       "        vertical-align: top;\n",
       "    }\n",
       "\n",
       "    .dataframe thead th {\n",
       "        text-align: right;\n",
       "    }\n",
       "</style>\n",
       "<table border=\"1\" class=\"dataframe\">\n",
       "  <thead>\n",
       "    <tr style=\"text-align: right;\">\n",
       "      <th></th>\n",
       "      <th>Aguascalientes</th>\n",
       "      <th>Guanajuato</th>\n",
       "      <th>Jalisco</th>\n",
       "      <th>Michoacán</th>\n",
       "      <th>Querétaro</th>\n",
       "      <th>area</th>\n",
       "      <th>poblacion</th>\n",
       "    </tr>\n",
       "  </thead>\n",
       "  <tbody>\n",
       "    <tr>\n",
       "      <td>Guanajuato</td>\n",
       "      <td>NaN</td>\n",
       "      <td>NaN</td>\n",
       "      <td>NaN</td>\n",
       "      <td>NaN</td>\n",
       "      <td>NaN</td>\n",
       "      <td>NaN</td>\n",
       "      <td>NaN</td>\n",
       "    </tr>\n",
       "    <tr>\n",
       "      <td>Querétaro</td>\n",
       "      <td>NaN</td>\n",
       "      <td>NaN</td>\n",
       "      <td>NaN</td>\n",
       "      <td>NaN</td>\n",
       "      <td>NaN</td>\n",
       "      <td>NaN</td>\n",
       "      <td>NaN</td>\n",
       "    </tr>\n",
       "    <tr>\n",
       "      <td>Michoacán</td>\n",
       "      <td>NaN</td>\n",
       "      <td>NaN</td>\n",
       "      <td>NaN</td>\n",
       "      <td>NaN</td>\n",
       "      <td>NaN</td>\n",
       "      <td>NaN</td>\n",
       "      <td>NaN</td>\n",
       "    </tr>\n",
       "    <tr>\n",
       "      <td>Aguascalientes</td>\n",
       "      <td>NaN</td>\n",
       "      <td>NaN</td>\n",
       "      <td>NaN</td>\n",
       "      <td>NaN</td>\n",
       "      <td>NaN</td>\n",
       "      <td>NaN</td>\n",
       "      <td>NaN</td>\n",
       "    </tr>\n",
       "    <tr>\n",
       "      <td>Jalisco</td>\n",
       "      <td>NaN</td>\n",
       "      <td>NaN</td>\n",
       "      <td>NaN</td>\n",
       "      <td>NaN</td>\n",
       "      <td>NaN</td>\n",
       "      <td>NaN</td>\n",
       "      <td>NaN</td>\n",
       "    </tr>\n",
       "  </tbody>\n",
       "</table>\n",
       "</div>"
      ],
      "text/plain": [
       "                Aguascalientes  Guanajuato  Jalisco  Michoacán  Querétaro  \\\n",
       "Guanajuato                 NaN         NaN      NaN        NaN        NaN   \n",
       "Querétaro                  NaN         NaN      NaN        NaN        NaN   \n",
       "Michoacán                  NaN         NaN      NaN        NaN        NaN   \n",
       "Aguascalientes             NaN         NaN      NaN        NaN        NaN   \n",
       "Jalisco                    NaN         NaN      NaN        NaN        NaN   \n",
       "\n",
       "                area  poblacion  \n",
       "Guanajuato       NaN        NaN  \n",
       "Querétaro        NaN        NaN  \n",
       "Michoacán        NaN        NaN  \n",
       "Aguascalientes   NaN        NaN  \n",
       "Jalisco          NaN        NaN  "
      ]
     },
     "execution_count": 29,
     "metadata": {},
     "output_type": "execute_result"
    }
   ],
   "source": [
    "estados + area"
   ]
  },
  {
   "cell_type": "markdown",
   "metadata": {},
   "source": [
    "Existe una intersección en los indices de 'estados' y de 'area', sin embargo, como los dataFrames funcionan como si fueran diccionarios, es necesario que se tenga la misma etiqueta en las columnas para que se puedan sumar."
   ]
  },
  {
   "cell_type": "code",
   "execution_count": null,
   "metadata": {},
   "outputs": [],
   "source": []
  }
 ],
 "metadata": {
  "kernelspec": {
   "display_name": "Python 3",
   "language": "python",
   "name": "python3"
  },
  "language_info": {
   "codemirror_mode": {
    "name": "ipython",
    "version": 3
   },
   "file_extension": ".py",
   "mimetype": "text/x-python",
   "name": "python",
   "nbconvert_exporter": "python",
   "pygments_lexer": "ipython3",
   "version": "3.7.4"
  }
 },
 "nbformat": 4,
 "nbformat_minor": 2
}
