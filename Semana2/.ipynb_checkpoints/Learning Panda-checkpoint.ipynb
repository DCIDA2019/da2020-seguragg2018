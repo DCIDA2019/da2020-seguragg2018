{
 "cells": [
  {
   "cell_type": "markdown",
   "metadata": {},
   "source": [
    "# Learning Panda"
   ]
  },
  {
   "cell_type": "code",
   "execution_count": 8,
   "metadata": {},
   "outputs": [],
   "source": [
    "import pandas as pd"
   ]
  },
  {
   "cell_type": "markdown",
   "metadata": {},
   "source": [
    "## Padas Series"
   ]
  },
  {
   "cell_type": "markdown",
   "metadata": {},
   "source": [
    "Las Series de Panda son herramientas para la manipulación de datos. Funcionan como si fueran diccionarios pero son mucho mas eficientes y especializados. A cada dato o a cada número de datos se le asigna una etiqueta, la etiqueta inicialmente es un número, por lo que funciona como si fuera un arreglo de Numpy, pero lo interesante de las Series es que puedes cambiar la etiqueta y asi tener una mejor organización en los datos. \n",
    "\n",
    "Para imprimir solamente los valores se usa el comado 'values', y para imprimir las etiquetas usamos 'index'\n",
    "\n",
    "En general, los arreglos de Pandas son mas flexibles y generales que los de Numpy. Una de las diferencias mas notorias es el 'index', se puede accesar a los datos con la etiqueta del mismo."
   ]
  },
  {
   "cell_type": "code",
   "execution_count": 34,
   "metadata": {},
   "outputs": [
    {
     "data": {
      "text/plain": [
       "a    1.0\n",
       "b    4.0\n",
       "c    1.5\n",
       "d    4.0\n",
       "e    8.0\n",
       "dtype: float64"
      ]
     },
     "execution_count": 34,
     "metadata": {},
     "output_type": "execute_result"
    }
   ],
   "source": [
    "data = pd.Series([1,4,1.5,4,8], index=['a','b','c','d','e'])\n",
    "data"
   ]
  },
  {
   "cell_type": "code",
   "execution_count": 35,
   "metadata": {},
   "outputs": [
    {
     "data": {
      "text/plain": [
       "array([1. , 4. , 1.5, 4. , 8. ])"
      ]
     },
     "execution_count": 35,
     "metadata": {},
     "output_type": "execute_result"
    }
   ],
   "source": [
    "data.values"
   ]
  },
  {
   "cell_type": "code",
   "execution_count": 36,
   "metadata": {},
   "outputs": [
    {
     "data": {
      "text/plain": [
       "1.0"
      ]
     },
     "execution_count": 36,
     "metadata": {},
     "output_type": "execute_result"
    }
   ],
   "source": [
    "data['a']"
   ]
  },
  {
   "cell_type": "code",
   "execution_count": 37,
   "metadata": {},
   "outputs": [
    {
     "data": {
      "text/plain": [
       "Index(['a', 'b', 'c', 'd', 'e'], dtype='object')"
      ]
     },
     "execution_count": 37,
     "metadata": {},
     "output_type": "execute_result"
    }
   ],
   "source": [
    "data.index"
   ]
  },
  {
   "cell_type": "markdown",
   "metadata": {},
   "source": [
    "## Pandas DataFrame"
   ]
  },
  {
   "cell_type": "markdown",
   "metadata": {},
   "source": [
    "Los DataFrames, son estructuras de datos de la libreria Pandas. Funcionan como si fuera un diccionario especializado, ya que si Series era la analogía de Panda para los arreglos de Numpy de una dimensión, DataFrame es para los arrelgos de Numpy de dos dimensiones. Para hacerlo utilizaremos dos series, ya que estas se pueden construir a partir de un diccionario. Cabe aclarar que las etiquetas de las Series tienen que ser las mismas para el DataFrame funcione de la manera en la que se desea."
   ]
  },
  {
   "cell_type": "code",
   "execution_count": 41,
   "metadata": {},
   "outputs": [
    {
     "data": {
      "text/plain": [
       "Guanajuato        38332521\n",
       "Querétaro         26448193\n",
       "Michoacán         19651127\n",
       "Aguascalientes    19552860\n",
       "Jalisco           12882135\n",
       "dtype: int64"
      ]
     },
     "execution_count": 41,
     "metadata": {},
     "output_type": "execute_result"
    }
   ],
   "source": [
    "poblacion_dicc = {'Guanajuato': 38332521,\n",
    "                   'Querétaro': 26448193,\n",
    "                   'Michoacán': 19651127,\n",
    "                   'Aguascalientes': 19552860,\n",
    "                   'Jalisco': 12882135}\n",
    "poblacion = pd.Series(poblacion_dicc)\n",
    "poblacion"
   ]
  },
  {
   "cell_type": "code",
   "execution_count": 45,
   "metadata": {},
   "outputs": [
    {
     "data": {
      "text/plain": [
       "Guanajuato        423967\n",
       "Querétaro         695662\n",
       "Michoacán         141297\n",
       "Aguascalientes    170312\n",
       "Jalisco           149995\n",
       "dtype: int64"
      ]
     },
     "execution_count": 45,
     "metadata": {},
     "output_type": "execute_result"
    }
   ],
   "source": [
    "area_dicc = {'Guanajuato': 423967, 'Querétaro': 695662, 'Michoacán': 141297,\n",
    "             'Aguascalientes': 170312, 'Jalisco': 149995}\n",
    "area = pd.Series(area_dicc)\n",
    "area"
   ]
  },
  {
   "cell_type": "code",
   "execution_count": 46,
   "metadata": {},
   "outputs": [
    {
     "data": {
      "text/html": [
       "<div>\n",
       "<style scoped>\n",
       "    .dataframe tbody tr th:only-of-type {\n",
       "        vertical-align: middle;\n",
       "    }\n",
       "\n",
       "    .dataframe tbody tr th {\n",
       "        vertical-align: top;\n",
       "    }\n",
       "\n",
       "    .dataframe thead th {\n",
       "        text-align: right;\n",
       "    }\n",
       "</style>\n",
       "<table border=\"1\" class=\"dataframe\">\n",
       "  <thead>\n",
       "    <tr style=\"text-align: right;\">\n",
       "      <th></th>\n",
       "      <th>poblacion</th>\n",
       "      <th>area</th>\n",
       "    </tr>\n",
       "  </thead>\n",
       "  <tbody>\n",
       "    <tr>\n",
       "      <td>Guanajuato</td>\n",
       "      <td>38332521</td>\n",
       "      <td>423967</td>\n",
       "    </tr>\n",
       "    <tr>\n",
       "      <td>Querétaro</td>\n",
       "      <td>26448193</td>\n",
       "      <td>695662</td>\n",
       "    </tr>\n",
       "    <tr>\n",
       "      <td>Michoacán</td>\n",
       "      <td>19651127</td>\n",
       "      <td>141297</td>\n",
       "    </tr>\n",
       "    <tr>\n",
       "      <td>Aguascalientes</td>\n",
       "      <td>19552860</td>\n",
       "      <td>170312</td>\n",
       "    </tr>\n",
       "    <tr>\n",
       "      <td>Jalisco</td>\n",
       "      <td>12882135</td>\n",
       "      <td>149995</td>\n",
       "    </tr>\n",
       "  </tbody>\n",
       "</table>\n",
       "</div>"
      ],
      "text/plain": [
       "                poblacion    area\n",
       "Guanajuato       38332521  423967\n",
       "Querétaro        26448193  695662\n",
       "Michoacán        19651127  141297\n",
       "Aguascalientes   19552860  170312\n",
       "Jalisco          12882135  149995"
      ]
     },
     "execution_count": 46,
     "metadata": {},
     "output_type": "execute_result"
    }
   ],
   "source": [
    "estados = pd.DataFrame({'poblacion':poblacion, 'area':area})\n",
    "estados"
   ]
  },
  {
   "cell_type": "markdown",
   "metadata": {},
   "source": [
    "Se puede acceder al 'index' del DataFrame, y también a las columnas del mismo."
   ]
  },
  {
   "cell_type": "code",
   "execution_count": null,
   "metadata": {},
   "outputs": [],
   "source": []
  }
 ],
 "metadata": {
  "kernelspec": {
   "display_name": "Python 3",
   "language": "python",
   "name": "python3"
  },
  "language_info": {
   "codemirror_mode": {
    "name": "ipython",
    "version": 3
   },
   "file_extension": ".py",
   "mimetype": "text/x-python",
   "name": "python",
   "nbconvert_exporter": "python",
   "pygments_lexer": "ipython3",
   "version": "3.7.4"
  }
 },
 "nbformat": 4,
 "nbformat_minor": 2
}
