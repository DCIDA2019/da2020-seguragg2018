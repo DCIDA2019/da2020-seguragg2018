{
 "cells": [
  {
   "cell_type": "markdown",
   "metadata": {},
   "source": [
    "# Clase en línea\n",
    "#### Viernes 03 de marzo de 2020"
   ]
  },
  {
   "cell_type": "markdown",
   "metadata": {},
   "source": [
    "Definir un prior plano es tener igual probabilidad en un conjuto de valores. Una funcion que tenga un parametro de entrada y verificar si cae dentro del intervalo que se define, entonces se le asigna el valor que tu defines como probabilidad, tu prior. Si no, le asignas un valor de menos infinito para que tenga sentido con el logaritmo"
   ]
  },
  {
   "cell_type": "code",
   "execution_count": 1,
   "metadata": {},
   "outputs": [],
   "source": [
    "import numpy as np\n",
    "import matplotlib.pyplot as plt"
   ]
  },
  {
   "cell_type": "code",
   "execution_count": 2,
   "metadata": {},
   "outputs": [],
   "source": [
    "def likelihood(x, y, sigma, modelo, parametro):\n",
    "    return (-1/2)*np.sum(((y-modelo(x, parametro))**2)/sigma**2)"
   ]
  },
  {
   "cell_type": "code",
   "execution_count": 4,
   "metadata": {},
   "outputs": [],
   "source": [
    "def prior(param, a, b, prob):\n",
    "    if param < a and param > b:\n",
    "        param = prob\n",
    "    else:\n",
    "        param = -100000000000000000\n",
    "    return param"
   ]
  },
  {
   "cell_type": "code",
   "execution_count": 5,
   "metadata": {},
   "outputs": [],
   "source": [
    "def montecarlo_chain(x, y, sigma, modelo, p_i, n):\n",
    "\n",
    "    L_v = likelihood(x, y, sigma, modelo, p_i)\n",
    "    markov_chain = []\n",
    "    markov_chain.append([p_i, L_v])\n",
    "    \n",
    "    s = [0.1, 0.1]\n",
    "    \n",
    "    for i in range(n):\n",
    "        p_n = []\n",
    "        p_n = [np.random.normal(p_i[0], s[0]), np.random.normal(p_i[1], s[1])]\n",
    "        \n",
    "        L_n = likelihood(x, y, sigma, modelo, p_n)\n",
    "        \n",
    "        if (L_n>L_v):\n",
    "            markov_chain.append([p_n, L_n])\n",
    "            p_i = p_n \n",
    "            L_v = L_n\n",
    "            continue\n",
    "        elif  ((np.exp(L_n)/np.exp(L_v)) > np.random.randn()):\n",
    "            markov_chain.append([p_n, L_n])\n",
    "        \n",
    "    else:     \n",
    "        return markov_chain\n",
    "        \n",
    "    return markov_chain"
   ]
  },
  {
   "cell_type": "code",
   "execution_count": null,
   "metadata": {},
   "outputs": [],
   "source": []
  }
 ],
 "metadata": {
  "kernelspec": {
   "display_name": "Python 3",
   "language": "python",
   "name": "python3"
  },
  "language_info": {
   "codemirror_mode": {
    "name": "ipython",
    "version": 3
   },
   "file_extension": ".py",
   "mimetype": "text/x-python",
   "name": "python",
   "nbconvert_exporter": "python",
   "pygments_lexer": "ipython3",
   "version": "3.7.4"
  }
 },
 "nbformat": 4,
 "nbformat_minor": 2
}
